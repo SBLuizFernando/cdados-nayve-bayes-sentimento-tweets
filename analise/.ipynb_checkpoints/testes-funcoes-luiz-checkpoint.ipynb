{
 "cells": [
  {
   "cell_type": "code",
   "execution_count": null,
   "metadata": {},
   "outputs": [],
   "source": [
    "for tweet in \n",
    "\n"
   ]
  },
  {
   "cell_type": "code",
   "execution_count": 106,
   "metadata": {},
   "outputs": [
    {
     "name": "stdout",
     "output_type": "stream",
     "text": [
      "Original\n",
      "Lula com Aprova&ção _de TEMER BOLSONAROhttps://www.google.com/search?q=re.compile&rlz=1C1GCEA_enBR914BR914&oq=re.compile&aqs=chrome..69i57j69i59.3036j1j4&sourceid=chrome&ie=UTF-8 97% 🤔mas é par+a Voltar*** para $$$ !!! |?cadeia!!! kkkkkk  🤣🤣🤣🤣🤣 #lulanacadeia https://t.co/fxjc21d5i3\n",
      "\n",
      "Sem links e sem pontuações\n",
      "Lula com Aprovação de TEMER BOLSONARO 97 🤔mas é para Voltar para   cadeia kkkkkk  🤣🤣🤣🤣🤣 lulanacadeia \n",
      "\n",
      "Com emojis cercados por espaços\n",
      "Lula com Aprovação de TEMER BOLSONARO 97 🤔 mas é para Voltar para   cadeia kkkkkk  🤣 🤣 🤣 🤣 🤣  lulanacadeia \n",
      "\n",
      "Sem mais de um espaço\n",
      "lula com aprovação de temer bolsonaro 97 🤔 mas é para voltar para cadeia kkkkkk 🤣 🤣 🤣 🤣 🤣 lulanacadeia \n"
     ]
    }
   ],
   "source": [
    "import re\n",
    "\n",
    "def limpa_pontuacao_links(tweet_1):\n",
    "    \n",
    "    pontuacoes = '[!-.:?;,%&*_+-\\/|]'\n",
    "    padrao = re.compile(pontuacoes)\n",
    "    tweet_sem_pontuacoes = re.sub(padrao, \"\", tweet_1)\n",
    "    \n",
    "    tweet_sem_links = re.sub(\"http[^\\s]*\", \"\", tweet_sem_pontuacoes)\n",
    "    \n",
    "    return tweet_sem_links\n",
    "\n",
    "tweet = \"Lula com Aprova&ção _de TEMER BOLSONAROhttps://www.google.com/search?q=re.compile&rlz=1C1GCEA_enBR914BR914&oq=re.compile&aqs=chrome..69i57j69i59.3036j1j4&sourceid=chrome&ie=UTF-8 97% 🤔mas é par+a Voltar*** para $$$ !!! |?cadeia!!! kkkkkk  🤣🤣🤣🤣🤣 #lulanacadeia https://t.co/fxjc21d5i3\"\n",
    "\n",
    "\n",
    "#https://stackoverflow.com/questions/41466244/python-add-a-space-between-special-characters-and-words\n",
    "\n",
    "\n",
    "def cerca_emojis(tweet_2):\n",
    "    tweet_espaco_emoji = \"\"\n",
    "    for letra in tweet_2:\n",
    "        if letra in emoji.UNICODE_EMOJI and letra != \" \":\n",
    "            if tweet_espaco_emoji[-1] != \" \":\n",
    "                tweet_espaco_emoji = \"\"\n",
    "            tweet_espaco_emoji = tweet_espaco_emoji + letra\n",
    "            tweet_espaco_emoji = tweet_espaco_emoji + \" \"\n",
    "        else:\n",
    "            tweet_espaco_emoji = tweet_espaco_emoji + letra\n",
    "\n",
    "    return tweet_espaco_emoji\n",
    "\n",
    "\n",
    "def minusculo_espacos(tweet_3):\n",
    "    \n",
    "    tweet_minusculo = tweet_3.lower()\n",
    "    \n",
    "    tweet_espacos = re.sub(' +',' ', tweet_minusculo)\n",
    "    \n",
    "    return tweet_espacos\n",
    "\n",
    "\n",
    "print(\"Original\")\n",
    "print(tweet)\n",
    "print()\n",
    "print(\"Sem links e sem pontuações\")\n",
    "print(limpa_pontuacao_links(tweet))\n",
    "print()\n",
    "print(\"Com emojis cercados por espaços\")\n",
    "print(cerca_emojis(limpa_pontuacao_links(tweet)))\n",
    "print()\n",
    "print(\"Sem mais de um espaço\")\n",
    "print(minusculo_espacos(cerca_emojis(limpa_pontuacao_links(tweet))))\n",
    "\n"
   ]
  },
  {
   "cell_type": "code",
   "execution_count": null,
   "metadata": {},
   "outputs": [],
   "source": []
  },
  {
   "cell_type": "code",
   "execution_count": null,
   "metadata": {},
   "outputs": [],
   "source": []
  },
  {
   "cell_type": "code",
   "execution_count": null,
   "metadata": {},
   "outputs": [],
   "source": []
  },
  {
   "cell_type": "code",
   "execution_count": 112,
   "metadata": {},
   "outputs": [
    {
     "name": "stdout",
     "output_type": "stream",
     "text": [
      "\n",
      "Original:\n",
      "@_sc_duda lula condenado mais uma vez...💚🇧🇷🇧🇷🇧🇷🇧🇷🇧🇷🇧🇷🇧🇷 https://t.co/v6uxfpxjzx\n",
      "\n",
      "Limpo: \n",
      "💚 🇧 🇷 🇧 🇷 🇧 🇷 🇧 🇷 🇧 🇷 🇧 🇷 🇧 🇷 \n",
      "--------------------------------------------------------------------------------------------------------\n",
      "\n",
      "Original:\n",
      "@ricamconsult a volta de lula na presidência do brasil!😍\n",
      "\n",
      "Limpo: \n",
      "😍 \n",
      "--------------------------------------------------------------------------------------------------------\n",
      "\n",
      "Original:\n",
      "meu deus os comentários 🗣🗣🗣 jp perdeu a torcida toda ontem (inclusive a minha).\n",
      "\n",
      "Limpo: \n",
      "meu deus os comentários 🗣 🗣 🗣 jp perdeu a torcida toda ontem inclusive a minha\n",
      "--------------------------------------------------------------------------------------------------------\n",
      "\n",
      "Original:\n",
      "vivi pra ver até o lula concordando com o bolsonaro 👏🏽👏🏽👏🏽👏🏽 #direitaseguedireita #bolsonaro2022 #bolsonarotemrazao https://t.co/fja4vxk5yn\n",
      "\n",
      "Limpo: \n",
      "vivi pra ver até o lula concordando com o bolsonaro 👏 🏽 👏 🏽 👏 🏽 👏 🏽 direitaseguedireita bolsonaro2022 bolsonarotemrazao \n",
      "--------------------------------------------------------------------------------------------------------\n",
      "\n",
      "Original:\n",
      "rt @verdadenarede: ☢ vídeo mentiroso: homem xingado em bar é ex-presidente do cruzeiro, e não @lulaoficial  - https://t.co/za8avv8xt6\n",
      "\n",
      "Limpo: \n",
      "rt @verdadenarede ☢ vídeo mentiroso homem xingado em bar é expresidente do cruzeiro e não @lulaoficial \n",
      "--------------------------------------------------------------------------------------------------------\n"
     ]
    }
   ],
   "source": [
    "def filtro(tweet):\n",
    "    tweet = limpa_pontuacao_links(tweet)\n",
    "    tweet = cerca_emojis(tweet)\n",
    "    tweet = minusculo_espacos(tweet)\n",
    "    return tweet\n",
    "\n",
    "\n",
    "lista_tweets = [\"@_sc_duda lula condenado mais uma vez...💚🇧🇷🇧🇷🇧🇷🇧🇷🇧🇷🇧🇷🇧🇷 https://t.co/v6uxfpxjzx\", \"@ricamconsult a volta de lula na presidência do brasil!😍\", \"meu deus os comentários 🗣🗣🗣 jp perdeu a torcida toda ontem (inclusive a minha).\", \"vivi pra ver até o lula concordando com o bolsonaro 👏🏽👏🏽👏🏽👏🏽 #direitaseguedireita #bolsonaro2022 #bolsonarotemrazao https://t.co/fja4vxk5yn\", \"rt @verdadenarede: ☢ vídeo mentiroso: homem xingado em bar é ex-presidente do cruzeiro, e não @lulaoficial  - https://t.co/za8avv8xt6\" ]\n",
    "\n",
    "\n",
    "for tweets in lista_tweets:\n",
    "    print(\"\\nOriginal:\")\n",
    "    print(tweets)\n",
    "    print(\"\\nLimpo: \")\n",
    "    print(filtro(tweets))\n",
    "    print(\"--------------------------------------------------------------------------------------------------------\")\n"
   ]
  },
  {
   "cell_type": "code",
   "execution_count": null,
   "metadata": {},
   "outputs": [],
   "source": []
  },
  {
   "cell_type": "code",
   "execution_count": null,
   "metadata": {},
   "outputs": [],
   "source": []
  },
  {
   "cell_type": "code",
   "execution_count": null,
   "metadata": {},
   "outputs": [],
   "source": []
  },
  {
   "cell_type": "code",
   "execution_count": null,
   "metadata": {},
   "outputs": [],
   "source": []
  }
 ],
 "metadata": {
  "kernelspec": {
   "display_name": "Python 3",
   "language": "python",
   "name": "python3"
  },
  "language_info": {
   "codemirror_mode": {
    "name": "ipython",
    "version": 3
   },
   "file_extension": ".py",
   "mimetype": "text/x-python",
   "name": "python",
   "nbconvert_exporter": "python",
   "pygments_lexer": "ipython3",
   "version": "3.8.3"
  }
 },
 "nbformat": 4,
 "nbformat_minor": 4
}
