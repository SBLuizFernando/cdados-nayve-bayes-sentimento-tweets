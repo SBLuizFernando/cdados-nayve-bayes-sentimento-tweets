{
 "cells": [
  {
   "cell_type": "markdown",
   "metadata": {},
   "source": [
    "# Projeto 1 - Ciência dos Dados"
   ]
  },
  {
   "cell_type": "markdown",
   "metadata": {},
   "source": [
    "Nome: Carlos Eduardo Abdelmalack Simodo\n",
    "\n",
    "Nome: Luiz Fernando da Silva Borges"
   ]
  },
  {
   "cell_type": "markdown",
   "metadata": {},
   "source": [
    "**Atenção:** Serão permitidos grupos de três pessoas, mas com uma rubrica mais exigente. Grupos deste tamanho precisarão fazer um questionário de avaliação de trabalho em equipe"
   ]
  },
  {
   "cell_type": "markdown",
   "metadata": {},
   "source": [
    "___\n",
    "Carregando algumas bibliotecas:"
   ]
  },
  {
   "cell_type": "code",
   "execution_count": 148,
   "metadata": {},
   "outputs": [],
   "source": [
    "%matplotlib inline\n",
    "import pandas as pd\n",
    "import matplotlib.pyplot as plt\n",
    "import numpy as np\n",
    "import os\n",
    "import emoji\n",
    "import re"
   ]
  },
  {
   "cell_type": "markdown",
   "metadata": {},
   "source": [
    "### Antes da etapa abaixo, os tweets foram classificados manualmente usando a interface de classificação desenvolvida"
   ]
  },
  {
   "cell_type": "markdown",
   "metadata": {},
   "source": [
    "Reunimos os arquivos com os tweets e suas etiquetas de classificação em um único arquivo Excel"
   ]
  },
  {
   "cell_type": "markdown",
   "metadata": {},
   "source": [
    "Carregando a base de dados com os tweets classificados como relevantes e não relevantes:"
   ]
  },
  {
   "cell_type": "code",
   "execution_count": 103,
   "metadata": {},
   "outputs": [
    {
     "data": {
      "text/html": [
       "<div>\n",
       "<style scoped>\n",
       "    .dataframe tbody tr th:only-of-type {\n",
       "        vertical-align: middle;\n",
       "    }\n",
       "\n",
       "    .dataframe tbody tr th {\n",
       "        vertical-align: top;\n",
       "    }\n",
       "\n",
       "    .dataframe thead th {\n",
       "        text-align: right;\n",
       "    }\n",
       "</style>\n",
       "<table border=\"1\" class=\"dataframe\">\n",
       "  <thead>\n",
       "    <tr style=\"text-align: right;\">\n",
       "      <th></th>\n",
       "      <th>Tweets</th>\n",
       "      <th>Etiquetas</th>\n",
       "    </tr>\n",
       "  </thead>\n",
       "  <tbody>\n",
       "    <tr>\n",
       "      <th>0</th>\n",
       "      <td>rt @emirsader: lula: 'não adianta eleger um presidente progressista se elegermos 400 conservadores no congresso' https://t.co/dnvknvkqoi</td>\n",
       "      <td>3</td>\n",
       "    </tr>\n",
       "    <tr>\n",
       "      <th>1</th>\n",
       "      <td>@macunaimaz @coelho7l @ath1abalba @eutrilheiro @mirandasa_ @profeborto @ferdinandoperre @radiorockpuro @lookingcritical @mvdsister @gladyscastanho @teteduche @augusto_lula @rlkovalski @val_ce1 @ma...</td>\n",
       "      <td>3</td>\n",
       "    </tr>\n",
       "    <tr>\n",
       "      <th>2</th>\n",
       "      <td>@veramagalhaes chama o lula!!!</td>\n",
       "      <td>1</td>\n",
       "    </tr>\n",
       "    <tr>\n",
       "      <th>3</th>\n",
       "      <td>amo que a luizianne vai se candidatar a prefeita sem apoio de nenhum candidato só com o escoro no nome do lula e pt e já tá tocando maior terror nos políticos daqui</td>\n",
       "      <td>2</td>\n",
       "    </tr>\n",
       "    <tr>\n",
       "      <th>4</th>\n",
       "      <td>@belgranosouza @sidestranhe @rfmron @fernandoholiday @cirogomes ciro tem sido um dos políticos mais críticos ao lula e ao pt.</td>\n",
       "      <td>3</td>\n",
       "    </tr>\n",
       "    <tr>\n",
       "      <th>5</th>\n",
       "      <td>@nane12958293 @lulemedeiros @lulaoficial vocês merecem um psicopata confesso que é o bozo. lula não tem nada de psicopata. aliás você não sabe o que significa psicopatia. comigo não tá? sou da áre...</td>\n",
       "      <td>1</td>\n",
       "    </tr>\n",
       "    <tr>\n",
       "      <th>6</th>\n",
       "      <td>@ladyfontenelle são paulo já está quase sem nada devido a pandemia, depois disso ainda vão seguir a cartilha do lula?!?!\\n\\nroubar mais o quê???</td>\n",
       "      <td>2</td>\n",
       "    </tr>\n",
       "  </tbody>\n",
       "</table>\n",
       "</div>"
      ],
      "text/plain": [
       "                                                                                                                                                                                                    Tweets  \\\n",
       "0                                                                 rt @emirsader: lula: 'não adianta eleger um presidente progressista se elegermos 400 conservadores no congresso' https://t.co/dnvknvkqoi   \n",
       "1  @macunaimaz @coelho7l @ath1abalba @eutrilheiro @mirandasa_ @profeborto @ferdinandoperre @radiorockpuro @lookingcritical @mvdsister @gladyscastanho @teteduche @augusto_lula @rlkovalski @val_ce1 @ma...   \n",
       "2                                                                                                                                                                           @veramagalhaes chama o lula!!!   \n",
       "3                                     amo que a luizianne vai se candidatar a prefeita sem apoio de nenhum candidato só com o escoro no nome do lula e pt e já tá tocando maior terror nos políticos daqui   \n",
       "4                                                                            @belgranosouza @sidestranhe @rfmron @fernandoholiday @cirogomes ciro tem sido um dos políticos mais críticos ao lula e ao pt.   \n",
       "5  @nane12958293 @lulemedeiros @lulaoficial vocês merecem um psicopata confesso que é o bozo. lula não tem nada de psicopata. aliás você não sabe o que significa psicopatia. comigo não tá? sou da áre...   \n",
       "6                                                         @ladyfontenelle são paulo já está quase sem nada devido a pandemia, depois disso ainda vão seguir a cartilha do lula?!?!\\n\\nroubar mais o quê???   \n",
       "\n",
       "   Etiquetas  \n",
       "0          3  \n",
       "1          3  \n",
       "2          1  \n",
       "3          2  \n",
       "4          3  \n",
       "5          1  \n",
       "6          2  "
      ]
     },
     "execution_count": 103,
     "metadata": {},
     "output_type": "execute_result"
    }
   ],
   "source": [
    "#junta os dois arquivos excel em um unico\n",
    "df_mensagens_etiquetadas_1 = pd.read_excel('tabela_etiquetada_1.xlsx') \n",
    "df_mensagens_etiquetadas_2 = pd.read_excel('tabela_etiquetada_2.xlsx') \n",
    "\n",
    "#a coluna foi nomeada manualmente de 'Tweets'\n",
    "valores1 = df_mensagens_etiquetadas_1[['Tweets','Etiquetas']]\n",
    "valores2 = df_mensagens_etiquetadas_2[['Tweets','Etiquetas']]\n",
    "\n",
    "df_tabela_etiquetada = pd.concat([valores1, valores2])\n",
    "df_tabela_etiquetada.head(7)"
   ]
  },
  {
   "cell_type": "markdown",
   "metadata": {},
   "source": [
    "Verificamos se existe pelo menos 252 tweets de cada tipo (positivo, negativo e irrelevante)"
   ]
  },
  {
   "cell_type": "code",
   "execution_count": 104,
   "metadata": {},
   "outputs": [
    {
     "name": "stdout",
     "output_type": "stream",
     "text": [
      "3    579\n",
      "2    267\n",
      "1    156\n",
      "Name: Etiquetas, dtype: int64\n"
     ]
    }
   ],
   "source": [
    "#verifica se o numero de cada tipo etiquetas ultrapassa ou alcanca o minimo necessario\n",
    "distribuicao = df_tabela_etiquetada['Etiquetas'].value_counts()\n",
    "print(distribuicao)"
   ]
  },
  {
   "cell_type": "markdown",
   "metadata": {},
   "source": [
    "Separa o conjunto de tweets positivos, negativos e irrelevantes em dois dataframes: treino e teste. O dataframe de treino possui 2/3 da quantidade total de tweets coletados. O dataframe de teste possui 1/3 da quantidade total de tweets coletados. "
   ]
  },
  {
   "cell_type": "code",
   "execution_count": 105,
   "metadata": {},
   "outputs": [],
   "source": [
    "#separar em teste e treino, tendo a mesma razao de porcentagem de cada tipo de etiqueta\n",
    "def separa_teste_treino(df):\n",
    "    #define a divisao\n",
    "    divisao=1/3\n",
    "    \n",
    "    #separa os dataframes em dois novos dataframes\n",
    "    df_teste, df_treino= np.split(df, [int(divisao*len(df))])\n",
    "\n",
    "    #junta os dfs em uma lista\n",
    "    novos_dfs = [df_teste,df_treino]\n",
    "    return novos_dfs\n",
    "\n",
    "#chama a funcao\n",
    "novos_dfs=separa_teste_treino(df_tabela_etiquetada)\n",
    "df_teste = novos_dfs[0]\n",
    "df_treino = novos_dfs[1]"
   ]
  },
  {
   "cell_type": "code",
   "execution_count": 106,
   "metadata": {},
   "outputs": [
    {
     "data": {
      "text/html": [
       "<div>\n",
       "<style scoped>\n",
       "    .dataframe tbody tr th:only-of-type {\n",
       "        vertical-align: middle;\n",
       "    }\n",
       "\n",
       "    .dataframe tbody tr th {\n",
       "        vertical-align: top;\n",
       "    }\n",
       "\n",
       "    .dataframe thead th {\n",
       "        text-align: right;\n",
       "    }\n",
       "</style>\n",
       "<table border=\"1\" class=\"dataframe\">\n",
       "  <thead>\n",
       "    <tr style=\"text-align: right;\">\n",
       "      <th></th>\n",
       "      <th>Tweets</th>\n",
       "      <th>Etiquetas</th>\n",
       "    </tr>\n",
       "  </thead>\n",
       "  <tbody>\n",
       "    <tr>\n",
       "      <th>334</th>\n",
       "      <td>rt @uolnoticias: pt confirma candidatura de benedita no rio: \"vamos seguir cartilha do lula\" https://t.co/kdgkninqwh</td>\n",
       "      <td>3</td>\n",
       "    </tr>\n",
       "    <tr>\n",
       "      <th>335</th>\n",
       "      <td>boa tarde patriotas!\\ndeus é conservador\\no diabo é progressista\\nbolsonaro é melhor presidente do brasil d tds os tempos, e o lula o maior ladrão do brasil d tds os tempos.\\n#bolsonaro2022reeleit...</td>\n",
       "      <td>2</td>\n",
       "    </tr>\n",
       "    <tr>\n",
       "      <th>336</th>\n",
       "      <td>@uol \"vamos seguir a cartilha do lula\" então significa dizer que vai ser mais um \"pau mandado\"! q lástima. que deus tenha misericórdia do rio de janeiro.</td>\n",
       "      <td>3</td>\n",
       "    </tr>\n",
       "    <tr>\n",
       "      <th>337</th>\n",
       "      <td>@nos_daimprensa @teteduche @xicosa leia-se: a estratégia dos petistas foi errada do começo ao fim. diziam que bolsonaro era o candidato que perderia de qualquer  no segundo turno. ouso dizer que g...</td>\n",
       "      <td>3</td>\n",
       "    </tr>\n",
       "    <tr>\n",
       "      <th>338</th>\n",
       "      <td>@prsmalacheia @p0mb4g1ra burrismo mesmo foi quando votaram no lula e dilma</td>\n",
       "      <td>3</td>\n",
       "    </tr>\n",
       "    <tr>\n",
       "      <th>...</th>\n",
       "      <td>...</td>\n",
       "      <td>...</td>\n",
       "    </tr>\n",
       "    <tr>\n",
       "      <th>496</th>\n",
       "      <td>@margaridamsp @tatu_do_cerrado @marilizpj eu concordo contigo. mas quem com ferro fere, com ferro será ferido. lula nunca deixou de se envolver com gente globo. se aliou a donos de emissoras afili...</td>\n",
       "      <td>2</td>\n",
       "    </tr>\n",
       "    <tr>\n",
       "      <th>497</th>\n",
       "      <td>lula defendendo bolsonaro?? 🤔🤔 https://t.co/matkaltnl1</td>\n",
       "      <td>3</td>\n",
       "    </tr>\n",
       "    <tr>\n",
       "      <th>498</th>\n",
       "      <td>@temposdeotimis1 nem um pouco</td>\n",
       "      <td>3</td>\n",
       "    </tr>\n",
       "    <tr>\n",
       "      <th>499</th>\n",
       "      <td>rt @verdadenarede: ☢ vídeo mentiroso: homem xingado em bar é ex-presidente do cruzeiro, e não @lulaoficial  - https://t.co/za8avv8xt6\\n↪ htt…</td>\n",
       "      <td>3</td>\n",
       "    </tr>\n",
       "    <tr>\n",
       "      <th>500</th>\n",
       "      <td>rt @alecoffee72: @elilima67364902 @n_carvalheira foi o maia e o lula...</td>\n",
       "      <td>3</td>\n",
       "    </tr>\n",
       "  </tbody>\n",
       "</table>\n",
       "<p>668 rows × 2 columns</p>\n",
       "</div>"
      ],
      "text/plain": [
       "                                                                                                                                                                                                      Tweets  \\\n",
       "334                                                                                     rt @uolnoticias: pt confirma candidatura de benedita no rio: \"vamos seguir cartilha do lula\" https://t.co/kdgkninqwh   \n",
       "335  boa tarde patriotas!\\ndeus é conservador\\no diabo é progressista\\nbolsonaro é melhor presidente do brasil d tds os tempos, e o lula o maior ladrão do brasil d tds os tempos.\\n#bolsonaro2022reeleit...   \n",
       "336                                                @uol \"vamos seguir a cartilha do lula\" então significa dizer que vai ser mais um \"pau mandado\"! q lástima. que deus tenha misericórdia do rio de janeiro.   \n",
       "337  @nos_daimprensa @teteduche @xicosa leia-se: a estratégia dos petistas foi errada do começo ao fim. diziam que bolsonaro era o candidato que perderia de qualquer  no segundo turno. ouso dizer que g...   \n",
       "338                                                                                                                               @prsmalacheia @p0mb4g1ra burrismo mesmo foi quando votaram no lula e dilma   \n",
       "..                                                                                                                                                                                                       ...   \n",
       "496  @margaridamsp @tatu_do_cerrado @marilizpj eu concordo contigo. mas quem com ferro fere, com ferro será ferido. lula nunca deixou de se envolver com gente globo. se aliou a donos de emissoras afili...   \n",
       "497                                                                                                                                                   lula defendendo bolsonaro?? 🤔🤔 https://t.co/matkaltnl1   \n",
       "498                                                                                                                                                                            @temposdeotimis1 nem um pouco   \n",
       "499                                                            rt @verdadenarede: ☢ vídeo mentiroso: homem xingado em bar é ex-presidente do cruzeiro, e não @lulaoficial  - https://t.co/za8avv8xt6\\n↪ htt…   \n",
       "500                                                                                                                                  rt @alecoffee72: @elilima67364902 @n_carvalheira foi o maia e o lula...   \n",
       "\n",
       "     Etiquetas  \n",
       "334          3  \n",
       "335          2  \n",
       "336          3  \n",
       "337          3  \n",
       "338          3  \n",
       "..         ...  \n",
       "496          2  \n",
       "497          3  \n",
       "498          3  \n",
       "499          3  \n",
       "500          3  \n",
       "\n",
       "[668 rows x 2 columns]"
      ]
     },
     "execution_count": 106,
     "metadata": {},
     "output_type": "execute_result"
    }
   ],
   "source": [
    "df_treino"
   ]
  },
  {
   "cell_type": "code",
   "execution_count": 107,
   "metadata": {},
   "outputs": [
    {
     "data": {
      "text/html": [
       "<div>\n",
       "<style scoped>\n",
       "    .dataframe tbody tr th:only-of-type {\n",
       "        vertical-align: middle;\n",
       "    }\n",
       "\n",
       "    .dataframe tbody tr th {\n",
       "        vertical-align: top;\n",
       "    }\n",
       "\n",
       "    .dataframe thead th {\n",
       "        text-align: right;\n",
       "    }\n",
       "</style>\n",
       "<table border=\"1\" class=\"dataframe\">\n",
       "  <thead>\n",
       "    <tr style=\"text-align: right;\">\n",
       "      <th></th>\n",
       "      <th>Tweets</th>\n",
       "      <th>Etiquetas</th>\n",
       "    </tr>\n",
       "  </thead>\n",
       "  <tbody>\n",
       "    <tr>\n",
       "      <th>0</th>\n",
       "      <td>rt @emirsader: lula: 'não adianta eleger um presidente progressista se elegermos 400 conservadores no congresso' https://t.co/dnvknvkqoi</td>\n",
       "      <td>3</td>\n",
       "    </tr>\n",
       "    <tr>\n",
       "      <th>1</th>\n",
       "      <td>@macunaimaz @coelho7l @ath1abalba @eutrilheiro @mirandasa_ @profeborto @ferdinandoperre @radiorockpuro @lookingcritical @mvdsister @gladyscastanho @teteduche @augusto_lula @rlkovalski @val_ce1 @ma...</td>\n",
       "      <td>3</td>\n",
       "    </tr>\n",
       "    <tr>\n",
       "      <th>2</th>\n",
       "      <td>@veramagalhaes chama o lula!!!</td>\n",
       "      <td>1</td>\n",
       "    </tr>\n",
       "    <tr>\n",
       "      <th>3</th>\n",
       "      <td>amo que a luizianne vai se candidatar a prefeita sem apoio de nenhum candidato só com o escoro no nome do lula e pt e já tá tocando maior terror nos políticos daqui</td>\n",
       "      <td>2</td>\n",
       "    </tr>\n",
       "    <tr>\n",
       "      <th>4</th>\n",
       "      <td>@belgranosouza @sidestranhe @rfmron @fernandoholiday @cirogomes ciro tem sido um dos políticos mais críticos ao lula e ao pt.</td>\n",
       "      <td>3</td>\n",
       "    </tr>\n",
       "    <tr>\n",
       "      <th>...</th>\n",
       "      <td>...</td>\n",
       "      <td>...</td>\n",
       "    </tr>\n",
       "    <tr>\n",
       "      <th>329</th>\n",
       "      <td>@marilizpj pela primeira vez na vida, tenho que concordar com o lula 🦑</td>\n",
       "      <td>1</td>\n",
       "    </tr>\n",
       "    <tr>\n",
       "      <th>330</th>\n",
       "      <td>pois não é que lula defende bolsonaro i crítica moro i com razão https://t.co/3knqeofj0i</td>\n",
       "      <td>3</td>\n",
       "    </tr>\n",
       "    <tr>\n",
       "      <th>331</th>\n",
       "      <td>@manueladavila mas o próprio lula defende esse doido! vai entender!</td>\n",
       "      <td>3</td>\n",
       "    </tr>\n",
       "    <tr>\n",
       "      <th>332</th>\n",
       "      <td>@erivelcro prefere lula????</td>\n",
       "      <td>3</td>\n",
       "    </tr>\n",
       "    <tr>\n",
       "      <th>333</th>\n",
       "      <td>rt @jack_onil: @brumarquezine n tenho político de estimação, já votei no lula, na última eleição votei no bolsonaro e, se estivesse nessa s…</td>\n",
       "      <td>3</td>\n",
       "    </tr>\n",
       "  </tbody>\n",
       "</table>\n",
       "<p>334 rows × 2 columns</p>\n",
       "</div>"
      ],
      "text/plain": [
       "                                                                                                                                                                                                      Tweets  \\\n",
       "0                                                                   rt @emirsader: lula: 'não adianta eleger um presidente progressista se elegermos 400 conservadores no congresso' https://t.co/dnvknvkqoi   \n",
       "1    @macunaimaz @coelho7l @ath1abalba @eutrilheiro @mirandasa_ @profeborto @ferdinandoperre @radiorockpuro @lookingcritical @mvdsister @gladyscastanho @teteduche @augusto_lula @rlkovalski @val_ce1 @ma...   \n",
       "2                                                                                                                                                                             @veramagalhaes chama o lula!!!   \n",
       "3                                       amo que a luizianne vai se candidatar a prefeita sem apoio de nenhum candidato só com o escoro no nome do lula e pt e já tá tocando maior terror nos políticos daqui   \n",
       "4                                                                              @belgranosouza @sidestranhe @rfmron @fernandoholiday @cirogomes ciro tem sido um dos políticos mais críticos ao lula e ao pt.   \n",
       "..                                                                                                                                                                                                       ...   \n",
       "329                                                                                                                                   @marilizpj pela primeira vez na vida, tenho que concordar com o lula 🦑   \n",
       "330                                                                                                                 pois não é que lula defende bolsonaro i crítica moro i com razão https://t.co/3knqeofj0i   \n",
       "331                                                                                                                                      @manueladavila mas o próprio lula defende esse doido! vai entender!   \n",
       "332                                                                                                                                                                              @erivelcro prefere lula????   \n",
       "333                                                             rt @jack_onil: @brumarquezine n tenho político de estimação, já votei no lula, na última eleição votei no bolsonaro e, se estivesse nessa s…   \n",
       "\n",
       "     Etiquetas  \n",
       "0            3  \n",
       "1            3  \n",
       "2            1  \n",
       "3            2  \n",
       "4            3  \n",
       "..         ...  \n",
       "329          1  \n",
       "330          3  \n",
       "331          3  \n",
       "332          3  \n",
       "333          3  \n",
       "\n",
       "[334 rows x 2 columns]"
      ]
     },
     "execution_count": 107,
     "metadata": {},
     "output_type": "execute_result"
    }
   ],
   "source": [
    "df_teste"
   ]
  },
  {
   "cell_type": "markdown",
   "metadata": {},
   "source": [
    "## Conta o numero de cada tipo de tweets no dataframe de treino"
   ]
  },
  {
   "cell_type": "code",
   "execution_count": 108,
   "metadata": {},
   "outputs": [
    {
     "name": "stdout",
     "output_type": "stream",
     "text": [
      "1, 2 e 3 no dataframe de treino: [412 164  92]\n",
      "1, 2 e 3 no dataframe de teste: [167 103  64]\n"
     ]
    }
   ],
   "source": [
    "#conta o numero de vezes que cada etiqueta se repete e coloca numa lista\n",
    "distribuicao = df_treino['Etiquetas'].value_counts()\n",
    "lista_dos_numeros_de_cada_tipo_de_etiqueta_treino = distribuicao.to_numpy()\n",
    "print(\"1, 2 e 3 no dataframe de treino:\", lista_dos_numeros_de_cada_tipo_de_etiqueta_treino)\n",
    "\n",
    "distribuicao = df_teste['Etiquetas'].value_counts()\n",
    "lista_dos_numeros_de_cada_tipo_de_etiqueta_teste = distribuicao.to_numpy()\n",
    "print(\"1, 2 e 3 no dataframe de teste:\", lista_dos_numeros_de_cada_tipo_de_etiqueta_teste)"
   ]
  },
  {
   "cell_type": "markdown",
   "metadata": {},
   "source": [
    "Vamos filtrar os dois conjuntos de dados para\n",
    "    \n",
    "* Remover pontuações\n",
    "* Remover links\n",
    "* Tornar todas as letras minísculas \n",
    "* Colocar um espaço antes e um depois de cada emoji\n",
    "* Substituir mais de um espaçamento entre dois elementos por apenas um"
   ]
  },
  {
   "cell_type": "code",
   "execution_count": 109,
   "metadata": {},
   "outputs": [],
   "source": [
    "#Remove as pontuações !-.:?;,%&*_+-\\/ e links\n",
    "def limpa_pontuacao_links(tweet_1):\n",
    "    \n",
    "    pontuacoes = '[!-.:?;,%&*_+-\\/|]'\n",
    "    padrao = re.compile(pontuacoes)\n",
    "    tweet_sem_pontuacoes = re.sub(padrao, \"\", tweet_1)\n",
    "    \n",
    "    tweet_sem_links = re.sub(\"http[^\\s]*\", \"\", tweet_sem_pontuacoes)\n",
    "    \n",
    "    tweet_sem_links = tweet_sem_links.replace(\"\\n\", \" \") ################# COMO TIRAR COM REGEX??!!\n",
    "    \n",
    "    return tweet_sem_links\n",
    "\n",
    "#minha_string = minha_string.replace('\\n', '')\n",
    "\n",
    "#faz com que cada emoji tenha um espaço antes e depois dele\n",
    "def cerca_emoji(tweet_3):\n",
    "    lista_str_letras=\"\"\n",
    "    for letra in tweet_3:\n",
    "        if letra in emoji.UNICODE_EMOJI:\n",
    "            lista_str_letras = lista_str_letras + \" \" + letra + \" \"\n",
    "        else:\n",
    "            lista_str_letras = lista_str_letras + letra\n",
    "\n",
    "    return lista_str_letras\n",
    "\n",
    "#faz com que todas as letras sejam minúsculas e com apenas um espaço entre duas palavras\n",
    "def minusculo_espacos(tweet_3):\n",
    "    \n",
    "    tweet_minusculo = tweet_3.lower()\n",
    "        \n",
    "    tweet_espacos = re.sub(\" +\",\" \", tweet_minusculo)\n",
    "    \n",
    "    return tweet_espacos\n",
    "\n",
    "#aplica as três funções acima de uma vez\n",
    "def filtro(tweet):\n",
    "    tweet = limpa_pontuacao_links(tweet)\n",
    "    tweet = cerca_emoji(tweet)\n",
    "    tweet = minusculo_espacos(tweet)\n",
    "    return tweet"
   ]
  },
  {
   "cell_type": "markdown",
   "metadata": {},
   "source": [
    "Aplica os filtros citados para a coluna de tweets do dataframe de treino e salva em um novo dataframe filtrado"
   ]
  },
  {
   "cell_type": "code",
   "execution_count": 126,
   "metadata": {},
   "outputs": [
    {
     "data": {
      "text/html": [
       "<div>\n",
       "<style scoped>\n",
       "    .dataframe tbody tr th:only-of-type {\n",
       "        vertical-align: middle;\n",
       "    }\n",
       "\n",
       "    .dataframe tbody tr th {\n",
       "        vertical-align: top;\n",
       "    }\n",
       "\n",
       "    .dataframe thead th {\n",
       "        text-align: right;\n",
       "    }\n",
       "</style>\n",
       "<table border=\"1\" class=\"dataframe\">\n",
       "  <thead>\n",
       "    <tr style=\"text-align: right;\">\n",
       "      <th></th>\n",
       "      <th>Tweets</th>\n",
       "      <th>Etiquetas</th>\n",
       "    </tr>\n",
       "  </thead>\n",
       "  <tbody>\n",
       "    <tr>\n",
       "      <th>334</th>\n",
       "      <td>rt @uolnoticias pt confirma candidatura de benedita no rio vamos seguir cartilha do lula</td>\n",
       "      <td>3</td>\n",
       "    </tr>\n",
       "    <tr>\n",
       "      <th>335</th>\n",
       "      <td>boa tarde patriotas deus é conservador o diabo é progressista bolsonaro é melhor presidente do brasil d tds os tempos e o lula o maior ladrão do brasil d tds os tempos bolsonaro2022reeleito 🤜 🤛 🇧 🇷</td>\n",
       "      <td>2</td>\n",
       "    </tr>\n",
       "    <tr>\n",
       "      <th>336</th>\n",
       "      <td>@uol vamos seguir a cartilha do lula então significa dizer que vai ser mais um pau mandado q lástima que deus tenha misericórdia do rio de janeiro</td>\n",
       "      <td>3</td>\n",
       "    </tr>\n",
       "    <tr>\n",
       "      <th>337</th>\n",
       "      <td>@nosdaimprensa @teteduche @xicosa leiase a estratégia dos petistas foi errada do começo ao fim diziam que bolsonaro era o candidato que perderia de qualquer no segundo turno ouso dizer que ganhari...</td>\n",
       "      <td>3</td>\n",
       "    </tr>\n",
       "    <tr>\n",
       "      <th>338</th>\n",
       "      <td>@prsmalacheia @p0mb4g1ra burrismo mesmo foi quando votaram no lula e dilma</td>\n",
       "      <td>3</td>\n",
       "    </tr>\n",
       "    <tr>\n",
       "      <th>339</th>\n",
       "      <td>rt @ptnosenado perseguição repetida lava jato recorre a acusações sem materialidade contra seus adversários no momento em que a ilegalid…</td>\n",
       "      <td>2</td>\n",
       "    </tr>\n",
       "    <tr>\n",
       "      <th>340</th>\n",
       "      <td>@ferreiramaromba @raquela38128936 @lulaoficial o mp tá cheio de provas contra os seus bandidos de estimação me dê uma prova contra lula q mude sua sentença fake de condenação por ato de ofício ind...</td>\n",
       "      <td>1</td>\n",
       "    </tr>\n",
       "  </tbody>\n",
       "</table>\n",
       "</div>"
      ],
      "text/plain": [
       "                                                                                                                                                                                                      Tweets  \\\n",
       "334                                                                                                                rt @uolnoticias pt confirma candidatura de benedita no rio vamos seguir cartilha do lula    \n",
       "335   boa tarde patriotas deus é conservador o diabo é progressista bolsonaro é melhor presidente do brasil d tds os tempos e o lula o maior ladrão do brasil d tds os tempos bolsonaro2022reeleito 🤜 🤛 🇧 🇷    \n",
       "336                                                       @uol vamos seguir a cartilha do lula então significa dizer que vai ser mais um pau mandado q lástima que deus tenha misericórdia do rio de janeiro   \n",
       "337  @nosdaimprensa @teteduche @xicosa leiase a estratégia dos petistas foi errada do começo ao fim diziam que bolsonaro era o candidato que perderia de qualquer no segundo turno ouso dizer que ganhari...   \n",
       "338                                                                                                                               @prsmalacheia @p0mb4g1ra burrismo mesmo foi quando votaram no lula e dilma   \n",
       "339                                                                rt @ptnosenado perseguição repetida lava jato recorre a acusações sem materialidade contra seus adversários no momento em que a ilegalid…   \n",
       "340  @ferreiramaromba @raquela38128936 @lulaoficial o mp tá cheio de provas contra os seus bandidos de estimação me dê uma prova contra lula q mude sua sentença fake de condenação por ato de ofício ind...   \n",
       "\n",
       "     Etiquetas  \n",
       "334          3  \n",
       "335          2  \n",
       "336          3  \n",
       "337          3  \n",
       "338          3  \n",
       "339          2  \n",
       "340          1  "
      ]
     },
     "execution_count": 126,
     "metadata": {},
     "output_type": "execute_result"
    }
   ],
   "source": [
    "df_treino_filtrado = df_treino\n",
    "df_treino_filtrado[\"Tweets\"]  = df_treino_filtrado[\"Tweets\"].apply(filtro)\n",
    "df_treino_filtrado.head(7)"
   ]
  },
  {
   "cell_type": "markdown",
   "metadata": {},
   "source": [
    "### Aplica os filtros citados para a coluna de tweets do dataframe de teste e salva em um novo dataframe filtrado"
   ]
  },
  {
   "cell_type": "code",
   "execution_count": 127,
   "metadata": {},
   "outputs": [
    {
     "data": {
      "text/html": [
       "<div>\n",
       "<style scoped>\n",
       "    .dataframe tbody tr th:only-of-type {\n",
       "        vertical-align: middle;\n",
       "    }\n",
       "\n",
       "    .dataframe tbody tr th {\n",
       "        vertical-align: top;\n",
       "    }\n",
       "\n",
       "    .dataframe thead th {\n",
       "        text-align: right;\n",
       "    }\n",
       "</style>\n",
       "<table border=\"1\" class=\"dataframe\">\n",
       "  <thead>\n",
       "    <tr style=\"text-align: right;\">\n",
       "      <th></th>\n",
       "      <th>Tweets</th>\n",
       "      <th>Etiquetas</th>\n",
       "      <th>Classificacao</th>\n",
       "    </tr>\n",
       "  </thead>\n",
       "  <tbody>\n",
       "    <tr>\n",
       "      <th>0</th>\n",
       "      <td>rt @emirsader lula não adianta eleger um presidente progressista se elegermos 400 conservadores no congresso</td>\n",
       "      <td>3</td>\n",
       "      <td>3</td>\n",
       "    </tr>\n",
       "    <tr>\n",
       "      <th>1</th>\n",
       "      <td>@macunaimaz @coelho7l @ath1abalba @eutrilheiro @mirandasa @profeborto @ferdinandoperre @radiorockpuro @lookingcritical @mvdsister @gladyscastanho @teteduche @augustolula @rlkovalski @valce1 @maria...</td>\n",
       "      <td>3</td>\n",
       "      <td>3</td>\n",
       "    </tr>\n",
       "    <tr>\n",
       "      <th>2</th>\n",
       "      <td>@veramagalhaes chama o lula</td>\n",
       "      <td>1</td>\n",
       "      <td>3</td>\n",
       "    </tr>\n",
       "    <tr>\n",
       "      <th>3</th>\n",
       "      <td>amo que a luizianne vai se candidatar a prefeita sem apoio de nenhum candidato só com o escoro no nome do lula e pt e já tá tocando maior terror nos políticos daqui</td>\n",
       "      <td>2</td>\n",
       "      <td>3</td>\n",
       "    </tr>\n",
       "    <tr>\n",
       "      <th>4</th>\n",
       "      <td>@belgranosouza @sidestranhe @rfmron @fernandoholiday @cirogomes ciro tem sido um dos políticos mais críticos ao lula e ao pt</td>\n",
       "      <td>3</td>\n",
       "      <td>3</td>\n",
       "    </tr>\n",
       "    <tr>\n",
       "      <th>5</th>\n",
       "      <td>@nane12958293 @lulemedeiros @lulaoficial vocês merecem um psicopata confesso que é o bozo lula não tem nada de psicopata aliás você não sabe o que significa psicopatia comigo não tá sou da área de...</td>\n",
       "      <td>1</td>\n",
       "      <td>3</td>\n",
       "    </tr>\n",
       "    <tr>\n",
       "      <th>6</th>\n",
       "      <td>@ladyfontenelle são paulo já está quase sem nada devido a pandemia depois disso ainda vão seguir a cartilha do lula roubar mais o quê</td>\n",
       "      <td>2</td>\n",
       "      <td>3</td>\n",
       "    </tr>\n",
       "  </tbody>\n",
       "</table>\n",
       "</div>"
      ],
      "text/plain": [
       "                                                                                                                                                                                                    Tweets  \\\n",
       "0                                                                                            rt @emirsader lula não adianta eleger um presidente progressista se elegermos 400 conservadores no congresso    \n",
       "1  @macunaimaz @coelho7l @ath1abalba @eutrilheiro @mirandasa @profeborto @ferdinandoperre @radiorockpuro @lookingcritical @mvdsister @gladyscastanho @teteduche @augustolula @rlkovalski @valce1 @maria...   \n",
       "2                                                                                                                                                                              @veramagalhaes chama o lula   \n",
       "3                                     amo que a luizianne vai se candidatar a prefeita sem apoio de nenhum candidato só com o escoro no nome do lula e pt e já tá tocando maior terror nos políticos daqui   \n",
       "4                                                                             @belgranosouza @sidestranhe @rfmron @fernandoholiday @cirogomes ciro tem sido um dos políticos mais críticos ao lula e ao pt   \n",
       "5  @nane12958293 @lulemedeiros @lulaoficial vocês merecem um psicopata confesso que é o bozo lula não tem nada de psicopata aliás você não sabe o que significa psicopatia comigo não tá sou da área de...   \n",
       "6                                                                    @ladyfontenelle são paulo já está quase sem nada devido a pandemia depois disso ainda vão seguir a cartilha do lula roubar mais o quê   \n",
       "\n",
       "   Etiquetas  Classificacao  \n",
       "0          3              3  \n",
       "1          3              3  \n",
       "2          1              3  \n",
       "3          2              3  \n",
       "4          3              3  \n",
       "5          1              3  \n",
       "6          2              3  "
      ]
     },
     "execution_count": 127,
     "metadata": {},
     "output_type": "execute_result"
    }
   ],
   "source": [
    "df_teste_filtrado = df_teste\n",
    "df_teste_filtrado[\"Tweets\"]  = df_teste_filtrado[\"Tweets\"].apply(filtro)\n",
    "df_teste_filtrado.head(7)"
   ]
  },
  {
   "cell_type": "markdown",
   "metadata": {},
   "source": [
    "Criando as series de tweets positivos, negativos e irrelevantes de treino"
   ]
  },
  {
   "cell_type": "code",
   "execution_count": 112,
   "metadata": {},
   "outputs": [],
   "source": [
    "filtro_positivo_treino = df_treino_filtrado[\"Etiquetas\"] == 1\n",
    "filtro_negativo_treino =  df_treino_filtrado[\"Etiquetas\"] == 2\n",
    "filtro_irrelevante_treino =  df_treino_filtrado[\"Etiquetas\"] == 3\n",
    "\n",
    "positivo_treino = df_treino_filtrado.loc[filtro_positivo_treino]\n",
    "negativo_treino = df_treino_filtrado.loc[filtro_negativo_treino]\n",
    "irrelevante_treino = df_treino_filtrado.loc[filtro_irrelevante_treino]\n",
    "\n",
    "serie_positivo_treino = positivo_treino[\"Tweets\"]\n",
    "serie_negativo_treino = negativo_treino[\"Tweets\"]\n",
    "serie_irrelevante_treino = irrelevante_treino[\"Tweets\"]\n",
    "serie_todos_tweets_treino = pd.concat([serie_positivo_treino, serie_negativo_treino, serie_irrelevante_treino])"
   ]
  },
  {
   "cell_type": "markdown",
   "metadata": {},
   "source": [
    "___\n",
    "## Classificador automático de sentimento\n"
   ]
  },
  {
   "cell_type": "markdown",
   "metadata": {},
   "source": [
    "Faça aqui uma descrição do seu produto e o que considerou como relevante ou não relevante na classificação dos tweets.\n",
    "\n",
    "ESCREVA AQUI..."
   ]
  },
  {
   "cell_type": "markdown",
   "metadata": {},
   "source": [
    "Separando as séries de tweets positivos, negativos e irrelantes do conjunto de treino"
   ]
  },
  {
   "cell_type": "code",
   "execution_count": 128,
   "metadata": {},
   "outputs": [],
   "source": [
    "string_positivo_treino = \" \".join(serie_positivo_treino)\n",
    "serie_positivo_treino = pd.Series(string_positivo_treino.split())\n",
    "\n",
    "string_negativo_treino = \" \".join(serie_negativo_treino)\n",
    "serie_negativo_treino = pd.Series(string_negativo_treino.split())\n",
    "\n",
    "string_irrelevante_treino = \" \".join(serie_irrelevante_treino)\n",
    "serie_irrelevante_treino = pd.Series(string_irrelevante_treino.split())"
   ]
  },
  {
   "cell_type": "markdown",
   "metadata": {},
   "source": [
    "Criando as tabelas de frequências relativas dos tweets positivos, negativos e irrelevantes do conjunto de treino"
   ]
  },
  {
   "cell_type": "code",
   "execution_count": 129,
   "metadata": {},
   "outputs": [],
   "source": [
    "tabela_relativa_positivo_treino = serie_positivo_treino.value_counts()\n",
    "tabela_relativa_negativo_treino = serie_negativo_treino.value_counts()\n",
    "tabela_relativa_irrelevante_treino = serie_irrelevante_treino.value_counts()"
   ]
  },
  {
   "cell_type": "markdown",
   "metadata": {},
   "source": [
    "Criando o conjunto que vai nos servir como o conjunto de todos os tweets existentes"
   ]
  },
  {
   "cell_type": "code",
   "execution_count": 130,
   "metadata": {},
   "outputs": [],
   "source": [
    "string_todos_tweets_treino = string_positivo_treino + string_negativo_treino + string_irrelevante_treino\n",
    "serie_todos_tweets_treino = pd.Series(string_todos_tweets_treino.split())\n",
    "tabela_relativa_todos_tweets_treino = serie_todos_tweets_treino.value_counts()"
   ]
  },
  {
   "cell_type": "markdown",
   "metadata": {},
   "source": [
    "___\n",
    "### Montando um Classificador Naive-Bayes\n",
    "\n",
    "Considerando apenas as mensagens da planilha Treinamento, ensine  seu classificador."
   ]
  },
  {
   "cell_type": "markdown",
   "metadata": {},
   "source": [
    "### Calculando priors"
   ]
  },
  {
   "cell_type": "code",
   "execution_count": 131,
   "metadata": {},
   "outputs": [],
   "source": [
    "probP = len(serie_positivo_treino)/len(serie_todos_tweets_treino)\n",
    "probN = len(serie_negativo_treino)/len(serie_todos_tweets_treino)\n",
    "probI = len(serie_irrelevante_treino)/len(serie_todos_tweets_treino)"
   ]
  },
  {
   "cell_type": "code",
   "execution_count": 132,
   "metadata": {},
   "outputs": [
    {
     "name": "stdout",
     "output_type": "stream",
     "text": [
      "0.1323338525441329 0.25571131879543096 0.6120846313603323\n",
      "1.0001298026998962\n"
     ]
    }
   ],
   "source": [
    "print(probP, probN, probI)\n",
    "soma = probP+probN+probI\n",
    "print(soma)"
   ]
  },
  {
   "cell_type": "markdown",
   "metadata": {},
   "source": [
    "### Calculando termos P(Tweet|Positivo), P(Tweet|Negativo), P(Tweet|Irrelevante) "
   ]
  },
  {
   "cell_type": "code",
   "execution_count": 139,
   "metadata": {},
   "outputs": [],
   "source": [
    "#alpha = 1.0\n",
    "#V = 435000\n",
    "alpha = 1\n",
    "V = 435000"
   ]
  },
  {
   "cell_type": "code",
   "execution_count": 140,
   "metadata": {},
   "outputs": [],
   "source": [
    "def prob_tweet_positivo(tweet_teste_1):\n",
    "    prob_tweet_positivo = 1            #evita underlow\n",
    "    for palavra in tweet_teste_1.split():\n",
    "        try:\n",
    "            prob_palavra_tweet_positivo = np.log((tabela_relativa_positivo_treino[palavra] + alpha) / \\\n",
    "            (len(string_positivo_treino) + alpha*V))\n",
    "            prob_tweet_positivo = prob_tweet_positivo + prob_palavra_tweet_positivo\n",
    "        except:\n",
    "            prob_palavra_tweet_positivo = np.log(alpha / (len(string_positivo_treino) + alpha*V))\n",
    "            prob_tweet_positivo = prob_tweet_positivo + prob_palavra_tweet_positivo\n",
    "             \n",
    "    return prob_tweet_positivo"
   ]
  },
  {
   "cell_type": "code",
   "execution_count": 141,
   "metadata": {},
   "outputs": [
    {
     "data": {
      "text/plain": [
       "-40.143746519852144"
      ]
     },
     "execution_count": 141,
     "metadata": {},
     "output_type": "execute_result"
    }
   ],
   "source": [
    "tweet = \"@michellebelo7 lula o primeiro\"\n",
    "\n",
    "prob_tweet_positivo(tweet)"
   ]
  },
  {
   "cell_type": "code",
   "execution_count": 142,
   "metadata": {},
   "outputs": [],
   "source": [
    "def prob_tweet_negativo(tweet_teste_2):\n",
    "    prob_tweet_negativo = 1             #evita underlow\n",
    "    for palavra in tweet_teste_2.split():\n",
    "        try:\n",
    "            prob_palavra_tweet_negativo = np.log((tabela_relativa_negativo_treino[palavra] + alpha) / \\\n",
    "            (len(string_negativo_treino) + alpha*V))\n",
    "            prob_tweet_negativo = prob_tweet_negativo + prob_palavra_tweet_negativo\n",
    "        except:\n",
    "            prob_palavra_tweet_negativo = np.log(alpha / (len(string_negativo_treino) + alpha*V))\n",
    "            prob_tweet_negativo = prob_tweet_negativo + prob_palavra_tweet_negativo\n",
    "        \n",
    "    return prob_tweet_negativo"
   ]
  },
  {
   "cell_type": "code",
   "execution_count": 143,
   "metadata": {},
   "outputs": [],
   "source": [
    "def prob_tweet_irrelevante(tweet_teste_3):\n",
    "    prob_tweet_irrelevante = 1             #evita underlow\n",
    "    for palavra in tweet_teste_3.split():\n",
    "        try:\n",
    "            prob_palavra_tweet_irrelevante = np.log((tabela_relativa_irrelevante_treino[palavra] + alpha) /\\\n",
    "            (len(string_irrelevante_treino) + alpha*V))\n",
    "            prob_tweet_irrelevante = prob_tweet_irrelevante + prob_palavra_tweet_irrelevante \n",
    "        except:\n",
    "            prob_palavra_tweet_irrelevante = np.log(alpha / (len(string_irrelevante_treino) + alpha*V))\n",
    "            prob_tweet_irrelevante = prob_tweet_irrelevante + prob_palavra_tweet_irrelevante \n",
    "                \n",
    "    return prob_tweet_irrelevante"
   ]
  },
  {
   "cell_type": "markdown",
   "metadata": {},
   "source": [
    "### Calculando os termos P(Positivo|Tweet), P(Negativo|Tweet), P(Irrelavante|Tweet) "
   ]
  },
  {
   "cell_type": "code",
   "execution_count": 144,
   "metadata": {},
   "outputs": [],
   "source": [
    "def maior_prob(tweet_4):\n",
    "    prob_positivo_dado_tweet = np.log(probP) + prob_tweet_positivo(tweet_4)\n",
    "    prob_negativo_dado_tweet = np.log(probN) + prob_tweet_negativo(tweet_4)\n",
    "    prob_irrelevante_dado_tweet = np.log(probI) + prob_tweet_irrelevante(tweet_4)\n",
    "    \n",
    "    #print(prob_positivo_dado_tweet)\n",
    "    #print(prob_negativo_dado_tweet)\n",
    "    #print(prob_irrelevante_dado_tweet)\n",
    "    \n",
    "    if prob_positivo_dado_tweet > prob_negativo_dado_tweet and prob_positivo_dado_tweet > \\\n",
    "    prob_irrelevante_dado_tweet:\n",
    "        return 1\n",
    "    if prob_negativo_dado_tweet > prob_positivo_dado_tweet and  prob_negativo_dado_tweet > \\\n",
    "    prob_irrelevante_dado_tweet:\n",
    "        return 2\n",
    "    else:\n",
    "        return 3"
   ]
  },
  {
   "cell_type": "markdown",
   "metadata": {},
   "source": [
    "___\n",
    "### Verificando a performance do Classificador\n",
    "\n",
    "Agora você deve testar o seu classificador com a base de Testes."
   ]
  },
  {
   "cell_type": "code",
   "execution_count": 145,
   "metadata": {},
   "outputs": [
    {
     "data": {
      "text/html": [
       "<div>\n",
       "<style scoped>\n",
       "    .dataframe tbody tr th:only-of-type {\n",
       "        vertical-align: middle;\n",
       "    }\n",
       "\n",
       "    .dataframe tbody tr th {\n",
       "        vertical-align: top;\n",
       "    }\n",
       "\n",
       "    .dataframe thead th {\n",
       "        text-align: right;\n",
       "    }\n",
       "</style>\n",
       "<table border=\"1\" class=\"dataframe\">\n",
       "  <thead>\n",
       "    <tr style=\"text-align: right;\">\n",
       "      <th></th>\n",
       "      <th>Tweets</th>\n",
       "      <th>Etiquetas</th>\n",
       "      <th>Classificacao</th>\n",
       "    </tr>\n",
       "  </thead>\n",
       "  <tbody>\n",
       "    <tr>\n",
       "      <th>0</th>\n",
       "      <td>rt @emirsader lula não adianta eleger um presidente progressista se elegermos 400 conservadores no congresso</td>\n",
       "      <td>3</td>\n",
       "      <td>3</td>\n",
       "    </tr>\n",
       "    <tr>\n",
       "      <th>1</th>\n",
       "      <td>@macunaimaz @coelho7l @ath1abalba @eutrilheiro @mirandasa @profeborto @ferdinandoperre @radiorockpuro @lookingcritical @mvdsister @gladyscastanho @teteduche @augustolula @rlkovalski @valce1 @maria...</td>\n",
       "      <td>3</td>\n",
       "      <td>3</td>\n",
       "    </tr>\n",
       "    <tr>\n",
       "      <th>2</th>\n",
       "      <td>@veramagalhaes chama o lula</td>\n",
       "      <td>1</td>\n",
       "      <td>3</td>\n",
       "    </tr>\n",
       "    <tr>\n",
       "      <th>3</th>\n",
       "      <td>amo que a luizianne vai se candidatar a prefeita sem apoio de nenhum candidato só com o escoro no nome do lula e pt e já tá tocando maior terror nos políticos daqui</td>\n",
       "      <td>2</td>\n",
       "      <td>3</td>\n",
       "    </tr>\n",
       "    <tr>\n",
       "      <th>4</th>\n",
       "      <td>@belgranosouza @sidestranhe @rfmron @fernandoholiday @cirogomes ciro tem sido um dos políticos mais críticos ao lula e ao pt</td>\n",
       "      <td>3</td>\n",
       "      <td>3</td>\n",
       "    </tr>\n",
       "    <tr>\n",
       "      <th>5</th>\n",
       "      <td>@nane12958293 @lulemedeiros @lulaoficial vocês merecem um psicopata confesso que é o bozo lula não tem nada de psicopata aliás você não sabe o que significa psicopatia comigo não tá sou da área de...</td>\n",
       "      <td>1</td>\n",
       "      <td>3</td>\n",
       "    </tr>\n",
       "    <tr>\n",
       "      <th>6</th>\n",
       "      <td>@ladyfontenelle são paulo já está quase sem nada devido a pandemia depois disso ainda vão seguir a cartilha do lula roubar mais o quê</td>\n",
       "      <td>2</td>\n",
       "      <td>3</td>\n",
       "    </tr>\n",
       "  </tbody>\n",
       "</table>\n",
       "</div>"
      ],
      "text/plain": [
       "                                                                                                                                                                                                    Tweets  \\\n",
       "0                                                                                            rt @emirsader lula não adianta eleger um presidente progressista se elegermos 400 conservadores no congresso    \n",
       "1  @macunaimaz @coelho7l @ath1abalba @eutrilheiro @mirandasa @profeborto @ferdinandoperre @radiorockpuro @lookingcritical @mvdsister @gladyscastanho @teteduche @augustolula @rlkovalski @valce1 @maria...   \n",
       "2                                                                                                                                                                              @veramagalhaes chama o lula   \n",
       "3                                     amo que a luizianne vai se candidatar a prefeita sem apoio de nenhum candidato só com o escoro no nome do lula e pt e já tá tocando maior terror nos políticos daqui   \n",
       "4                                                                             @belgranosouza @sidestranhe @rfmron @fernandoholiday @cirogomes ciro tem sido um dos políticos mais críticos ao lula e ao pt   \n",
       "5  @nane12958293 @lulemedeiros @lulaoficial vocês merecem um psicopata confesso que é o bozo lula não tem nada de psicopata aliás você não sabe o que significa psicopatia comigo não tá sou da área de...   \n",
       "6                                                                    @ladyfontenelle são paulo já está quase sem nada devido a pandemia depois disso ainda vão seguir a cartilha do lula roubar mais o quê   \n",
       "\n",
       "   Etiquetas  Classificacao  \n",
       "0          3              3  \n",
       "1          3              3  \n",
       "2          1              3  \n",
       "3          2              3  \n",
       "4          3              3  \n",
       "5          1              3  \n",
       "6          2              3  "
      ]
     },
     "execution_count": 145,
     "metadata": {},
     "output_type": "execute_result"
    }
   ],
   "source": [
    "df_teste_classificador = df_teste\n",
    "df_teste_classificador[\"Classificacao\"] = df_teste_classificador[\"Tweets\"].apply(maior_prob)\n",
    "df_teste_classificador.head(7)"
   ]
  },
  {
   "cell_type": "code",
   "execution_count": 146,
   "metadata": {},
   "outputs": [
    {
     "data": {
      "text/html": [
       "<div>\n",
       "<style scoped>\n",
       "    .dataframe tbody tr th:only-of-type {\n",
       "        vertical-align: middle;\n",
       "    }\n",
       "\n",
       "    .dataframe tbody tr th {\n",
       "        vertical-align: top;\n",
       "    }\n",
       "\n",
       "    .dataframe thead th {\n",
       "        text-align: right;\n",
       "    }\n",
       "</style>\n",
       "<table border=\"1\" class=\"dataframe\">\n",
       "  <thead>\n",
       "    <tr style=\"text-align: right;\">\n",
       "      <th>Classificacao</th>\n",
       "      <th>2</th>\n",
       "      <th>3</th>\n",
       "    </tr>\n",
       "    <tr>\n",
       "      <th>Etiquetas</th>\n",
       "      <th></th>\n",
       "      <th></th>\n",
       "    </tr>\n",
       "  </thead>\n",
       "  <tbody>\n",
       "    <tr>\n",
       "      <th>1</th>\n",
       "      <td>0.0</td>\n",
       "      <td>19.335347</td>\n",
       "    </tr>\n",
       "    <tr>\n",
       "      <th>2</th>\n",
       "      <td>100.0</td>\n",
       "      <td>30.211480</td>\n",
       "    </tr>\n",
       "    <tr>\n",
       "      <th>3</th>\n",
       "      <td>0.0</td>\n",
       "      <td>50.453172</td>\n",
       "    </tr>\n",
       "  </tbody>\n",
       "</table>\n",
       "</div>"
      ],
      "text/plain": [
       "Classificacao      2          3\n",
       "Etiquetas                      \n",
       "1                0.0  19.335347\n",
       "2              100.0  30.211480\n",
       "3                0.0  50.453172"
      ]
     },
     "execution_count": 146,
     "metadata": {},
     "output_type": "execute_result"
    }
   ],
   "source": [
    "pd.crosstab(df_teste_classificador.Etiquetas,df_teste_classificador.Classificacao, normalize=\"columns\")*100"
   ]
  },
  {
   "cell_type": "code",
   "execution_count": 147,
   "metadata": {},
   "outputs": [
    {
     "name": "stdout",
     "output_type": "stream",
     "text": [
      "1: 0/64= 0.0%\n",
      "2: 3/103= 2.912621359223301%\n",
      "3: 167/167= 100.0%\n"
     ]
    }
   ],
   "source": [
    "lista_classificacao = []\n",
    "lista_etiquetas = []\n",
    "acertos_1 = 0\n",
    "acertos_2 = 0\n",
    "acertos_3 = 0\n",
    "\n",
    "for n_linha in range(len(df_teste_classificador[\"Classificacao\"])):\n",
    "    lista_classificacao.append(df_teste_classificador[\"Classificacao\"].iloc[n_linha])\n",
    "    lista_etiquetas.append(df_teste_classificador[\"Etiquetas\"].iloc[n_linha])\n",
    "    \n",
    "    if df_teste_classificador[\"Classificacao\"].iloc[n_linha] == 1 and \\\n",
    "    df_teste_classificador[\"Etiquetas\"].iloc[n_linha] == 1:\n",
    "        acertos_1 += 1\n",
    "    elif df_teste_classificador[\"Classificacao\"].iloc[n_linha] == 2 and \\\n",
    "    df_teste_classificador[\"Etiquetas\"].iloc[n_linha] == 2:\n",
    "        acertos_2 += 1\n",
    "    elif df_teste_classificador[\"Classificacao\"].iloc[n_linha] == 3 and \\\n",
    "    df_teste_classificador[\"Etiquetas\"].iloc[n_linha] == 3:\n",
    "        acertos_3 += 1\n",
    "        \n",
    "etiquetas_1 = lista_etiquetas.count(1)\n",
    "etiquetas_2 = lista_etiquetas.count(2)\n",
    "etiquetas_3 = lista_etiquetas.count(3)\n",
    "\n",
    "acc_1 = (acertos_1/etiquetas_1) * 100\n",
    "acc_2 = (acertos_2/etiquetas_2) * 100\n",
    "acc_3 = (acertos_3/etiquetas_3) *100\n",
    "        \n",
    "print(\"1: {}/{}= {}%\".format(acertos_1, etiquetas_1, acc_1))\n",
    "print(\"2: {}/{}= {}%\".format(acertos_2, etiquetas_2, acc_2))\n",
    "print(\"3: {}/{}= {}%\".format(acertos_3, etiquetas_3, acc_3))"
   ]
  },
  {
   "cell_type": "markdown",
   "metadata": {},
   "source": [
    "___\n",
    "### Concluindo"
   ]
  },
  {
   "cell_type": "code",
   "execution_count": null,
   "metadata": {},
   "outputs": [],
   "source": []
  },
  {
   "cell_type": "code",
   "execution_count": null,
   "metadata": {},
   "outputs": [],
   "source": []
  },
  {
   "cell_type": "markdown",
   "metadata": {},
   "source": [
    "___\n",
    "## Aperfeiçoamento:\n",
    "\n",
    "Os trabalhos vão evoluir em conceito dependendo da quantidade de itens avançados:\n",
    "\n",
    "* Limpar: \\n, :, \", ', (, ), etc SEM remover emojis\n",
    "* Corrigir separação de espaços entre palavras e emojis ou entre emojis e emojis\n",
    "* Propor outras limpezas e transformações que não afetem a qualidade da informação ou classificação\n",
    "* Criar categorias intermediárias de relevância baseadas na probabilidade: ex.: muito relevante, relevante, neutro, irrelevante, muito irrelevante (3 categorias: C, mais categorias conta para B)\n",
    "* Explicar por que não posso usar o próprio classificador para gerar mais amostras de treinamento\n",
    "* Propor diferentes cenários para Naïve Bayes fora do contexto do projeto\n",
    "* Sugerir e explicar melhorias reais com indicações concretas de como implementar (indicar como fazer e indicar material de pesquisa)\n",
    "* Montar um dashboard que realiza análise de sentimento e visualiza estes dados"
   ]
  },
  {
   "cell_type": "markdown",
   "metadata": {},
   "source": [
    "___\n",
    "## Referências"
   ]
  },
  {
   "cell_type": "markdown",
   "metadata": {},
   "source": [
    "[Naive Bayes and Text Classification](https://arxiv.org/pdf/1410.5329.pdf)  **Mais completo**\n",
    "\n",
    "[A practical explanation of a Naive Bayes Classifier](https://monkeylearn.com/blog/practical-explanation-naive-bayes-classifier/) **Mais simples**"
   ]
  },
  {
   "cell_type": "code",
   "execution_count": null,
   "metadata": {},
   "outputs": [],
   "source": []
  }
 ],
 "metadata": {
  "kernelspec": {
   "display_name": "Python 3",
   "language": "python",
   "name": "python3"
  },
  "language_info": {
   "codemirror_mode": {
    "name": "ipython",
    "version": 3
   },
   "file_extension": ".py",
   "mimetype": "text/x-python",
   "name": "python",
   "nbconvert_exporter": "python",
   "pygments_lexer": "ipython3",
   "version": "3.8.3"
  }
 },
 "nbformat": 4,
 "nbformat_minor": 4
}
