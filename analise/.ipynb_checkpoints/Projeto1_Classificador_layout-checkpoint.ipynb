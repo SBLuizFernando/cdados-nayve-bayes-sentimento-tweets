{
 "cells": [
  {
   "cell_type": "markdown",
   "metadata": {},
   "source": [
    "# Projeto 1 - Ciência dos Dados"
   ]
  },
  {
   "cell_type": "markdown",
   "metadata": {},
   "source": [
    "Nome: Carlos Eduardo Abdelmalack Simodo\n",
    "\n",
    "Nome: Luiz Fernando da Silva Borges"
   ]
  },
  {
   "cell_type": "markdown",
   "metadata": {},
   "source": [
    "**Atenção:** Serão permitidos grupos de três pessoas, mas com uma rubrica mais exigente. Grupos deste tamanho precisarão fazer um questionário de avaliação de trabalho em equipe"
   ]
  },
  {
   "cell_type": "markdown",
   "metadata": {},
   "source": [
    "___\n",
    "Carregando algumas bibliotecas:"
   ]
  },
  {
   "cell_type": "code",
   "execution_count": 1,
   "metadata": {},
   "outputs": [],
   "source": [
    "%matplotlib inline\n",
    "import pandas as pd\n",
    "import matplotlib.pyplot as plt\n",
    "import numpy as np\n",
    "import os\n",
    "import emoji\n",
    "import re"
   ]
  },
  {
   "cell_type": "markdown",
   "metadata": {},
   "source": [
    "## Antes da etapa abaixo, os tweets foram classificados manualmente usando a interface de classificação desenvolvida"
   ]
  },
  {
   "cell_type": "markdown",
   "metadata": {},
   "source": [
    "Reunimos os arquivos com os tweets e suas etiquetas de classificação em um único arquivo Excel"
   ]
  },
  {
   "cell_type": "markdown",
   "metadata": {},
   "source": [
    "Carregando a base de dados com os tweets classificados como relevantes e não relevantes:"
   ]
  },
  {
   "cell_type": "markdown",
   "metadata": {},
   "source": [
    "#### Após classificarmos os tweets, unificamos os arquivos excel utilizados para facilitar o manuseio"
   ]
  },
  {
   "cell_type": "code",
   "execution_count": 2,
   "metadata": {},
   "outputs": [
    {
     "data": {
      "text/html": [
       "<div>\n",
       "<style scoped>\n",
       "    .dataframe tbody tr th:only-of-type {\n",
       "        vertical-align: middle;\n",
       "    }\n",
       "\n",
       "    .dataframe tbody tr th {\n",
       "        vertical-align: top;\n",
       "    }\n",
       "\n",
       "    .dataframe thead th {\n",
       "        text-align: right;\n",
       "    }\n",
       "</style>\n",
       "<table border=\"1\" class=\"dataframe\">\n",
       "  <thead>\n",
       "    <tr style=\"text-align: right;\">\n",
       "      <th></th>\n",
       "      <th>Tweets</th>\n",
       "      <th>Etiquetas</th>\n",
       "    </tr>\n",
       "  </thead>\n",
       "  <tbody>\n",
       "    <tr>\n",
       "      <th>0</th>\n",
       "      <td>pelo habibs 🤤</td>\n",
       "      <td>3</td>\n",
       "    </tr>\n",
       "    <tr>\n",
       "      <th>1</th>\n",
       "      <td>tô explodindo de tanto que comi, valeu habibs</td>\n",
       "      <td>1</td>\n",
       "    </tr>\n",
       "    <tr>\n",
       "      <th>2</th>\n",
       "      <td>@mateus_habibs chapéu</td>\n",
       "      <td>3</td>\n",
       "    </tr>\n",
       "    <tr>\n",
       "      <th>3</th>\n",
       "      <td>@flavia_azambuja até tinha, mas ele não me lev...</td>\n",
       "      <td>3</td>\n",
       "    </tr>\n",
       "    <tr>\n",
       "      <th>4</th>\n",
       "      <td>@gnoga_13 é que não ouviu quando ela acorda de...</td>\n",
       "      <td>3</td>\n",
       "    </tr>\n",
       "    <tr>\n",
       "      <th>5</th>\n",
       "      <td>@buzzfeedbrasil a primeira vez que comi macarr...</td>\n",
       "      <td>1</td>\n",
       "    </tr>\n",
       "    <tr>\n",
       "      <th>6</th>\n",
       "      <td>não vou me perdoar por estar em poa o findi in...</td>\n",
       "      <td>1</td>\n",
       "    </tr>\n",
       "  </tbody>\n",
       "</table>\n",
       "</div>"
      ],
      "text/plain": [
       "                                              Tweets  Etiquetas\n",
       "0                                      pelo habibs 🤤          3\n",
       "1      tô explodindo de tanto que comi, valeu habibs          1\n",
       "2                              @mateus_habibs chapéu          3\n",
       "3  @flavia_azambuja até tinha, mas ele não me lev...          3\n",
       "4  @gnoga_13 é que não ouviu quando ela acorda de...          3\n",
       "5  @buzzfeedbrasil a primeira vez que comi macarr...          1\n",
       "6  não vou me perdoar por estar em poa o findi in...          1"
      ]
     },
     "execution_count": 2,
     "metadata": {},
     "output_type": "execute_result"
    }
   ],
   "source": [
    "#junta os dois arquivos excel em um unico\n",
    "df_mensagens_etiquetadas_1 = pd.read_excel('metade_a.xlsx') \n",
    "df_mensagens_etiquetadas_2 = pd.read_excel('metade_b.xlsx') \n",
    "\n",
    "#a coluna foi nomeada manualmente de 'Tweets'\n",
    "valores1 = df_mensagens_etiquetadas_1[['Tweets','Etiquetas']]\n",
    "valores2 = df_mensagens_etiquetadas_2[['Tweets','Etiquetas']]\n",
    "\n",
    "df_tabela_etiquetada = pd.concat([valores1, valores2])\n",
    "df_tabela_etiquetada.head(7)"
   ]
  },
  {
   "cell_type": "markdown",
   "metadata": {},
   "source": [
    "Verificamos se existe pelo menos 252 tweets de cada tipo (positivo, negativo e irrelevante)no dataframe\n"
   ]
  },
  {
   "cell_type": "code",
   "execution_count": 3,
   "metadata": {},
   "outputs": [
    {
     "name": "stdout",
     "output_type": "stream",
     "text": [
      "3    652\n",
      "1    357\n",
      "2    263\n",
      "Name: Etiquetas, dtype: int64\n"
     ]
    }
   ],
   "source": [
    "#verifica se o numero de cada tipo etiquetas ultrapassa ou alcanca o minimo necessario de 250\n",
    "distribuicao = df_tabela_etiquetada['Etiquetas'].value_counts()\n",
    "print(distribuicao)"
   ]
  },
  {
   "cell_type": "markdown",
   "metadata": {},
   "source": [
    "## Separação do dataframe em Treino e Teste"
   ]
  },
  {
   "cell_type": "markdown",
   "metadata": {},
   "source": [
    "Separa o conjunto de tweets positivos, negativos e irrelevantes em dois dataframes: treino e teste. O dataframe de treino possui 2/3 da quantidade total de tweets coletados. O dataframe de teste possui 1/3 da quantidade total de tweets coletados. "
   ]
  },
  {
   "cell_type": "code",
   "execution_count": 4,
   "metadata": {},
   "outputs": [],
   "source": [
    "#separar em teste e treino, tendo a mesma razao de porcentagem de cada tipo de etiqueta\n",
    "def separa_teste_treino(df):\n",
    "    #define a divisao\n",
    "    divisao=1/3\n",
    "    \n",
    "    #separa os dataframes em dois novos dataframes\n",
    "    df_teste, df_treino= np.split(df, [int(divisao*len(df))])\n",
    "\n",
    "    #junta os dfs em uma lista\n",
    "    novos_dfs = [df_teste,df_treino]\n",
    "    return novos_dfs\n",
    "\n",
    "#chama a funcao\n",
    "novos_dfs=separa_teste_treino(df_tabela_etiquetada)\n",
    "df_teste = novos_dfs[0]\n",
    "df_treino = novos_dfs[1]"
   ]
  },
  {
   "cell_type": "code",
   "execution_count": 5,
   "metadata": {},
   "outputs": [
    {
     "data": {
      "text/html": [
       "<div>\n",
       "<style scoped>\n",
       "    .dataframe tbody tr th:only-of-type {\n",
       "        vertical-align: middle;\n",
       "    }\n",
       "\n",
       "    .dataframe tbody tr th {\n",
       "        vertical-align: top;\n",
       "    }\n",
       "\n",
       "    .dataframe thead th {\n",
       "        text-align: right;\n",
       "    }\n",
       "</style>\n",
       "<table border=\"1\" class=\"dataframe\">\n",
       "  <thead>\n",
       "    <tr style=\"text-align: right;\">\n",
       "      <th></th>\n",
       "      <th>Tweets</th>\n",
       "      <th>Etiquetas</th>\n",
       "    </tr>\n",
       "  </thead>\n",
       "  <tbody>\n",
       "    <tr>\n",
       "      <th>424</th>\n",
       "      <td>passei na frente de um habibs e to lembrando d...</td>\n",
       "      <td>1</td>\n",
       "    </tr>\n",
       "    <tr>\n",
       "      <th>425</th>\n",
       "      <td>@quimicusao essa shein é mó daora, vamo assalt...</td>\n",
       "      <td>3</td>\n",
       "    </tr>\n",
       "    <tr>\n",
       "      <th>426</th>\n",
       "      <td>@mateus_habibs @_isa_azambuja ih jaear eu vo p...</td>\n",
       "      <td>3</td>\n",
       "    </tr>\n",
       "    <tr>\n",
       "      <th>427</th>\n",
       "      <td>fui no habibs com a minha mãe 🥰</td>\n",
       "      <td>3</td>\n",
       "    </tr>\n",
       "    <tr>\n",
       "      <th>428</th>\n",
       "      <td>esperei anos pelo lanche do habis e ainda veio...</td>\n",
       "      <td>2</td>\n",
       "    </tr>\n",
       "    <tr>\n",
       "      <th>...</th>\n",
       "      <td>...</td>\n",
       "      <td>...</td>\n",
       "    </tr>\n",
       "    <tr>\n",
       "      <th>631</th>\n",
       "      <td>os roles da minha mãe são melhores que os meus</td>\n",
       "      <td>3</td>\n",
       "    </tr>\n",
       "    <tr>\n",
       "      <th>632</th>\n",
       "      <td>me segurando pra n ir no habibs ver se meu car...</td>\n",
       "      <td>1</td>\n",
       "    </tr>\n",
       "    <tr>\n",
       "      <th>633</th>\n",
       "      <td>pedi 5 esfirras de queijo no habibs e me manda...</td>\n",
       "      <td>2</td>\n",
       "    </tr>\n",
       "    <tr>\n",
       "      <th>634</th>\n",
       "      <td>comendo esfirra de carne do habibs para matar ...</td>\n",
       "      <td>3</td>\n",
       "    </tr>\n",
       "    <tr>\n",
       "      <th>635</th>\n",
       "      <td>tô precisando de um barbeiro</td>\n",
       "      <td>3</td>\n",
       "    </tr>\n",
       "  </tbody>\n",
       "</table>\n",
       "<p>848 rows × 2 columns</p>\n",
       "</div>"
      ],
      "text/plain": [
       "                                                Tweets  Etiquetas\n",
       "424  passei na frente de um habibs e to lembrando d...          1\n",
       "425  @quimicusao essa shein é mó daora, vamo assalt...          3\n",
       "426  @mateus_habibs @_isa_azambuja ih jaear eu vo p...          3\n",
       "427                    fui no habibs com a minha mãe 🥰          3\n",
       "428  esperei anos pelo lanche do habis e ainda veio...          2\n",
       "..                                                 ...        ...\n",
       "631     os roles da minha mãe são melhores que os meus          3\n",
       "632  me segurando pra n ir no habibs ver se meu car...          1\n",
       "633  pedi 5 esfirras de queijo no habibs e me manda...          2\n",
       "634  comendo esfirra de carne do habibs para matar ...          3\n",
       "635                       tô precisando de um barbeiro          3\n",
       "\n",
       "[848 rows x 2 columns]"
      ]
     },
     "execution_count": 5,
     "metadata": {},
     "output_type": "execute_result"
    }
   ],
   "source": [
    "df_treino"
   ]
  },
  {
   "cell_type": "code",
   "execution_count": 6,
   "metadata": {},
   "outputs": [
    {
     "data": {
      "text/html": [
       "<div>\n",
       "<style scoped>\n",
       "    .dataframe tbody tr th:only-of-type {\n",
       "        vertical-align: middle;\n",
       "    }\n",
       "\n",
       "    .dataframe tbody tr th {\n",
       "        vertical-align: top;\n",
       "    }\n",
       "\n",
       "    .dataframe thead th {\n",
       "        text-align: right;\n",
       "    }\n",
       "</style>\n",
       "<table border=\"1\" class=\"dataframe\">\n",
       "  <thead>\n",
       "    <tr style=\"text-align: right;\">\n",
       "      <th></th>\n",
       "      <th>Tweets</th>\n",
       "      <th>Etiquetas</th>\n",
       "    </tr>\n",
       "  </thead>\n",
       "  <tbody>\n",
       "    <tr>\n",
       "      <th>0</th>\n",
       "      <td>pelo habibs 🤤</td>\n",
       "      <td>3</td>\n",
       "    </tr>\n",
       "    <tr>\n",
       "      <th>1</th>\n",
       "      <td>tô explodindo de tanto que comi, valeu habibs</td>\n",
       "      <td>1</td>\n",
       "    </tr>\n",
       "    <tr>\n",
       "      <th>2</th>\n",
       "      <td>@mateus_habibs chapéu</td>\n",
       "      <td>3</td>\n",
       "    </tr>\n",
       "    <tr>\n",
       "      <th>3</th>\n",
       "      <td>@flavia_azambuja até tinha, mas ele não me lev...</td>\n",
       "      <td>3</td>\n",
       "    </tr>\n",
       "    <tr>\n",
       "      <th>4</th>\n",
       "      <td>@gnoga_13 é que não ouviu quando ela acorda de...</td>\n",
       "      <td>3</td>\n",
       "    </tr>\n",
       "    <tr>\n",
       "      <th>...</th>\n",
       "      <td>...</td>\n",
       "      <td>...</td>\n",
       "    </tr>\n",
       "    <tr>\n",
       "      <th>419</th>\n",
       "      <td>to nem acreditando q o habibs entregou meu ped...</td>\n",
       "      <td>2</td>\n",
       "    </tr>\n",
       "    <tr>\n",
       "      <th>420</th>\n",
       "      <td>meu vale nem caiu ainda e já to planejando de ...</td>\n",
       "      <td>3</td>\n",
       "    </tr>\n",
       "    <tr>\n",
       "      <th>421</th>\n",
       "      <td>passamos o dia todo na cachoeira, agora viemos...</td>\n",
       "      <td>1</td>\n",
       "    </tr>\n",
       "    <tr>\n",
       "      <th>422</th>\n",
       "      <td>22 anos professora auxiliar, estagiária de cre...</td>\n",
       "      <td>3</td>\n",
       "    </tr>\n",
       "    <tr>\n",
       "      <th>423</th>\n",
       "      <td>namoral, existem bons restaurantes que fazem e...</td>\n",
       "      <td>1</td>\n",
       "    </tr>\n",
       "  </tbody>\n",
       "</table>\n",
       "<p>424 rows × 2 columns</p>\n",
       "</div>"
      ],
      "text/plain": [
       "                                                Tweets  Etiquetas\n",
       "0                                        pelo habibs 🤤          3\n",
       "1        tô explodindo de tanto que comi, valeu habibs          1\n",
       "2                                @mateus_habibs chapéu          3\n",
       "3    @flavia_azambuja até tinha, mas ele não me lev...          3\n",
       "4    @gnoga_13 é que não ouviu quando ela acorda de...          3\n",
       "..                                                 ...        ...\n",
       "419  to nem acreditando q o habibs entregou meu ped...          2\n",
       "420  meu vale nem caiu ainda e já to planejando de ...          3\n",
       "421  passamos o dia todo na cachoeira, agora viemos...          1\n",
       "422  22 anos professora auxiliar, estagiária de cre...          3\n",
       "423  namoral, existem bons restaurantes que fazem e...          1\n",
       "\n",
       "[424 rows x 2 columns]"
      ]
     },
     "execution_count": 6,
     "metadata": {},
     "output_type": "execute_result"
    }
   ],
   "source": [
    "df_teste"
   ]
  },
  {
   "cell_type": "markdown",
   "metadata": {},
   "source": [
    "## Conta o numero de cada tipo de tweets no dataframe de treino"
   ]
  },
  {
   "cell_type": "code",
   "execution_count": 45,
   "metadata": {},
   "outputs": [
    {
     "name": "stdout",
     "output_type": "stream",
     "text": [
      "1, 2 e 3 no dataframe de treino: [231 186 431]\n",
      "1, 2 e 3 no dataframe de teste: [126  77 221]\n"
     ]
    }
   ],
   "source": [
    "#conta o numero de vezes que cada etiqueta se repete e coloca numa lista\n",
    "distribuicao = df_treino['Etiquetas'].value_counts().sort_index()\n",
    "lista_dos_numeros_de_cada_tipo_de_etiqueta_treino = distribuicao.to_numpy()\n",
    "print(\"1, 2 e 3 no dataframe de treino:\", lista_dos_numeros_de_cada_tipo_de_etiqueta_treino)\n",
    "\n",
    "distribuicao = df_teste['Etiquetas'].value_counts().sort_index()\n",
    "lista_dos_numeros_de_cada_tipo_de_etiqueta_teste = distribuicao.to_numpy()\n",
    "print(\"1, 2 e 3 no dataframe de teste:\", lista_dos_numeros_de_cada_tipo_de_etiqueta_teste)\n"
   ]
  },
  {
   "cell_type": "markdown",
   "metadata": {},
   "source": [
    "## Filtragem do datframe"
   ]
  },
  {
   "cell_type": "markdown",
   "metadata": {},
   "source": [
    "Vamos filtrar os dois conjuntos de dados para\n",
    "    \n",
    "* Remover pontuações\n",
    "* Remover links\n",
    "* Tornar todas as letras minísculas \n",
    "* Colocar um espaço antes e um depois de cada emoji\n",
    "* Substituir mais de um espaçamento entre dois elementos por apenas um"
   ]
  },
  {
   "cell_type": "code",
   "execution_count": 8,
   "metadata": {},
   "outputs": [],
   "source": [
    "#Remove as pontuações !-.:?;,%&*_+-\\/ e links\n",
    "def limpa_pontuacao_links(tweet_1):\n",
    "    \n",
    "    pontuacoes = '[!-.:?;,%&*_+-\\/|]'\n",
    "    padrao = re.compile(pontuacoes)\n",
    "    tweet_sem_pontuacoes = re.sub(padrao, \"\", tweet_1)\n",
    "    \n",
    "    tweet_sem_links = re.sub(\"http[^\\s]*\", \"\", tweet_sem_pontuacoes)\n",
    "    \n",
    "    tweet_sem_links = tweet_sem_links.replace(\"\\n\", \" \") ################# COMO TIRAR COM REGEX??!!\n",
    "    \n",
    "    return tweet_sem_links\n",
    "\n",
    "#minha_string = minha_string.replace('\\n', '')\n",
    "\n",
    "#faz com que cada emoji tenha um espaço antes e depois dele\n",
    "def cerca_emoji(tweet_3):\n",
    "    lista_str_letras=\"\"\n",
    "    for letra in tweet_3:\n",
    "        if letra in emoji.UNICODE_EMOJI:\n",
    "            lista_str_letras = lista_str_letras + \" \" + letra + \" \"\n",
    "        else:\n",
    "            lista_str_letras = lista_str_letras + letra\n",
    "\n",
    "    return lista_str_letras\n",
    "\n",
    "#faz com que todas as letras sejam minúsculas e com apenas um espaço entre duas palavras\n",
    "def minusculo_espacos(tweet_3):\n",
    "    \n",
    "    tweet_minusculo = tweet_3.lower()\n",
    "        \n",
    "    tweet_espacos = re.sub(\" +\",\" \", tweet_minusculo)\n",
    "    \n",
    "    return tweet_espacos\n",
    "\n",
    "#aplica as três funções acima de uma vez\n",
    "def filtro(tweet):\n",
    "    tweet = limpa_pontuacao_links(tweet)\n",
    "    tweet = cerca_emoji(tweet)\n",
    "    tweet = minusculo_espacos(tweet)\n",
    "    return tweet"
   ]
  },
  {
   "cell_type": "markdown",
   "metadata": {},
   "source": [
    "### Aplica os filtros citados para a coluna de tweets do dataframe de treino e salva em um novo dataframe filtrado"
   ]
  },
  {
   "cell_type": "code",
   "execution_count": 9,
   "metadata": {},
   "outputs": [
    {
     "data": {
      "text/html": [
       "<div>\n",
       "<style scoped>\n",
       "    .dataframe tbody tr th:only-of-type {\n",
       "        vertical-align: middle;\n",
       "    }\n",
       "\n",
       "    .dataframe tbody tr th {\n",
       "        vertical-align: top;\n",
       "    }\n",
       "\n",
       "    .dataframe thead th {\n",
       "        text-align: right;\n",
       "    }\n",
       "</style>\n",
       "<table border=\"1\" class=\"dataframe\">\n",
       "  <thead>\n",
       "    <tr style=\"text-align: right;\">\n",
       "      <th></th>\n",
       "      <th>Tweets</th>\n",
       "      <th>Etiquetas</th>\n",
       "    </tr>\n",
       "  </thead>\n",
       "  <tbody>\n",
       "    <tr>\n",
       "      <th>424</th>\n",
       "      <td>passei na frente de um habibs e to lembrando d...</td>\n",
       "      <td>1</td>\n",
       "    </tr>\n",
       "    <tr>\n",
       "      <th>425</th>\n",
       "      <td>@quimicusao essa shein é mó daora vamo assalta...</td>\n",
       "      <td>3</td>\n",
       "    </tr>\n",
       "    <tr>\n",
       "      <th>426</th>\n",
       "      <td>@mateushabibs @isaazambuja ih jaear eu vo pra ...</td>\n",
       "      <td>3</td>\n",
       "    </tr>\n",
       "    <tr>\n",
       "      <th>427</th>\n",
       "      <td>fui no habibs com a minha mãe 🥰</td>\n",
       "      <td>3</td>\n",
       "    </tr>\n",
       "    <tr>\n",
       "      <th>428</th>\n",
       "      <td>esperei anos pelo lanche do habis e ainda veio...</td>\n",
       "      <td>2</td>\n",
       "    </tr>\n",
       "    <tr>\n",
       "      <th>429</th>\n",
       "      <td>so consigo pensa na esfiha de queijo do habibs</td>\n",
       "      <td>1</td>\n",
       "    </tr>\n",
       "    <tr>\n",
       "      <th>430</th>\n",
       "      <td>queria tantooo uma esfirra do habibs</td>\n",
       "      <td>1</td>\n",
       "    </tr>\n",
       "  </tbody>\n",
       "</table>\n",
       "</div>"
      ],
      "text/plain": [
       "                                                Tweets  Etiquetas\n",
       "424  passei na frente de um habibs e to lembrando d...          1\n",
       "425  @quimicusao essa shein é mó daora vamo assalta...          3\n",
       "426  @mateushabibs @isaazambuja ih jaear eu vo pra ...          3\n",
       "427                   fui no habibs com a minha mãe 🥰           3\n",
       "428  esperei anos pelo lanche do habis e ainda veio...          2\n",
       "429     so consigo pensa na esfiha de queijo do habibs          1\n",
       "430               queria tantooo uma esfirra do habibs          1"
      ]
     },
     "execution_count": 9,
     "metadata": {},
     "output_type": "execute_result"
    }
   ],
   "source": [
    "df_treino_filtrado = df_treino\n",
    "df_treino_filtrado[\"Tweets\"]  = df_treino_filtrado[\"Tweets\"].apply(filtro)\n",
    "df_treino_filtrado.head(7)"
   ]
  },
  {
   "cell_type": "markdown",
   "metadata": {},
   "source": [
    "### Aplica os filtros citados para a coluna de tweets do dataframe de teste e salva em um novo dataframe filtrado"
   ]
  },
  {
   "cell_type": "code",
   "execution_count": 10,
   "metadata": {},
   "outputs": [
    {
     "data": {
      "text/html": [
       "<div>\n",
       "<style scoped>\n",
       "    .dataframe tbody tr th:only-of-type {\n",
       "        vertical-align: middle;\n",
       "    }\n",
       "\n",
       "    .dataframe tbody tr th {\n",
       "        vertical-align: top;\n",
       "    }\n",
       "\n",
       "    .dataframe thead th {\n",
       "        text-align: right;\n",
       "    }\n",
       "</style>\n",
       "<table border=\"1\" class=\"dataframe\">\n",
       "  <thead>\n",
       "    <tr style=\"text-align: right;\">\n",
       "      <th></th>\n",
       "      <th>Tweets</th>\n",
       "      <th>Etiquetas</th>\n",
       "    </tr>\n",
       "  </thead>\n",
       "  <tbody>\n",
       "    <tr>\n",
       "      <th>0</th>\n",
       "      <td>pelo habibs 🤤</td>\n",
       "      <td>3</td>\n",
       "    </tr>\n",
       "    <tr>\n",
       "      <th>1</th>\n",
       "      <td>tô explodindo de tanto que comi valeu habibs</td>\n",
       "      <td>1</td>\n",
       "    </tr>\n",
       "    <tr>\n",
       "      <th>2</th>\n",
       "      <td>@mateushabibs chapéu</td>\n",
       "      <td>3</td>\n",
       "    </tr>\n",
       "    <tr>\n",
       "      <th>3</th>\n",
       "      <td>@flaviaazambuja até tinha mas ele não me leva ...</td>\n",
       "      <td>3</td>\n",
       "    </tr>\n",
       "    <tr>\n",
       "      <th>4</th>\n",
       "      <td>@gnoga13 é que não ouviu quando ela acorda de ...</td>\n",
       "      <td>3</td>\n",
       "    </tr>\n",
       "    <tr>\n",
       "      <th>5</th>\n",
       "      <td>@buzzfeedbrasil a primeira vez que comi macarr...</td>\n",
       "      <td>1</td>\n",
       "    </tr>\n",
       "    <tr>\n",
       "      <th>6</th>\n",
       "      <td>não vou me perdoar por estar em poa o findi in...</td>\n",
       "      <td>1</td>\n",
       "    </tr>\n",
       "  </tbody>\n",
       "</table>\n",
       "</div>"
      ],
      "text/plain": [
       "                                              Tweets  Etiquetas\n",
       "0                                     pelo habibs 🤤           3\n",
       "1       tô explodindo de tanto que comi valeu habibs          1\n",
       "2                               @mateushabibs chapéu          3\n",
       "3  @flaviaazambuja até tinha mas ele não me leva ...          3\n",
       "4  @gnoga13 é que não ouviu quando ela acorda de ...          3\n",
       "5  @buzzfeedbrasil a primeira vez que comi macarr...          1\n",
       "6  não vou me perdoar por estar em poa o findi in...          1"
      ]
     },
     "execution_count": 10,
     "metadata": {},
     "output_type": "execute_result"
    }
   ],
   "source": [
    "df_teste_filtrado = df_teste\n",
    "df_teste_filtrado[\"Tweets\"]  = df_teste_filtrado[\"Tweets\"].apply(filtro)\n",
    "df_teste_filtrado.head(7)"
   ]
  },
  {
   "cell_type": "markdown",
   "metadata": {},
   "source": [
    "___\n",
    "## Classificador automático de sentimento\n"
   ]
  },
  {
   "cell_type": "markdown",
   "metadata": {},
   "source": [
    "Faça aqui uma descrição do seu produto e o que considerou como relevante ou não relevante na classificação dos tweets.\n",
    "\n",
    "ESCREVA AQUI..."
   ]
  },
  {
   "cell_type": "markdown",
   "metadata": {},
   "source": [
    "### Criando as series de tweets positivos, negativos e irrelevantes de treino"
   ]
  },
  {
   "cell_type": "code",
   "execution_count": null,
   "metadata": {},
   "outputs": [],
   "source": [
    "filtro_positivo_treino = df_treino_filtrado[\"Etiquetas\"] == 1\n",
    "filtro_negativo_treino =  df_treino_filtrado[\"Etiquetas\"] == 2\n",
    "filtro_irrelevante_treino =  df_treino_filtrado[\"Etiquetas\"] == 3\n",
    "\n",
    "positivo_treino = df_treino_filtrado.loc[filtro_positivo_treino]\n",
    "negativo_treino = df_treino_filtrado.loc[filtro_negativo_treino]\n",
    "irrelevante_treino = df_treino_filtrado.loc[filtro_irrelevante_treino]\n",
    "\n",
    "serie_positivo_treino = positivo_treino[\"Tweets\"]\n",
    "serie_negativo_treino = negativo_treino[\"Tweets\"]\n",
    "serie_irrelevante_treino = irrelevante_treino[\"Tweets\"]\n",
    "serie_todos_tweets_treino = pd.concat([serie_positivo_treino, serie_negativo_treino, serie_irrelevante_treino])"
   ]
  },
  {
   "cell_type": "markdown",
   "metadata": {},
   "source": [
    "### Separando as séries de tweets positivos, negativos e irrelantes do conjunto de treino"
   ]
  },
  {
   "cell_type": "code",
   "execution_count": 12,
   "metadata": {},
   "outputs": [],
   "source": [
    "string_positivo_treino = \" \".join(serie_positivo_treino)\n",
    "serie_positivo_treino = pd.Series(string_positivo_treino.split())\n",
    "\n",
    "string_negativo_treino = \" \".join(serie_negativo_treino)\n",
    "serie_negativo_treino = pd.Series(string_negativo_treino.split())\n",
    "\n",
    "string_irrelevante_treino = \" \".join(serie_irrelevante_treino)\n",
    "serie_irrelevante_treino = pd.Series(string_irrelevante_treino.split())"
   ]
  },
  {
   "cell_type": "markdown",
   "metadata": {},
   "source": [
    "### Criando as tabelas de frequências relativas dos tweets positivos, negativos e irrelevantes do conjunto de treino"
   ]
  },
  {
   "cell_type": "code",
   "execution_count": 13,
   "metadata": {},
   "outputs": [],
   "source": [
    "tabela_relativa_positivo_treino = serie_positivo_treino.value_counts()\n",
    "tabela_relativa_negativo_treino = serie_negativo_treino.value_counts()\n",
    "tabela_relativa_irrelevante_treino = serie_irrelevante_treino.value_counts()"
   ]
  },
  {
   "cell_type": "markdown",
   "metadata": {},
   "source": [
    "### Criando o conjunto que vai nos servir como o conjunto de todos os tweets existentes"
   ]
  },
  {
   "cell_type": "code",
   "execution_count": 14,
   "metadata": {},
   "outputs": [],
   "source": [
    "string_todos_tweets_treino = string_positivo_treino + string_negativo_treino + string_irrelevante_treino\n",
    "serie_todos_tweets_treino = pd.Series(string_todos_tweets_treino.split())\n",
    "tabela_relativa_todos_tweets_treino = serie_todos_tweets_treino.value_counts()"
   ]
  },
  {
   "cell_type": "markdown",
   "metadata": {},
   "source": [
    "___\n",
    "### Montando um Classificador Naive-Bayes"
   ]
  },
  {
   "cell_type": "markdown",
   "metadata": {},
   "source": [
    "### Calculando priors"
   ]
  },
  {
   "cell_type": "code",
   "execution_count": 15,
   "metadata": {},
   "outputs": [],
   "source": [
    "probP = len(serie_positivo_treino)/len(serie_todos_tweets_treino)\n",
    "probN = len(serie_negativo_treino)/len(serie_todos_tweets_treino)\n",
    "probI = len(serie_irrelevante_treino)/len(serie_todos_tweets_treino)"
   ]
  },
  {
   "cell_type": "code",
   "execution_count": 16,
   "metadata": {},
   "outputs": [
    {
     "name": "stdout",
     "output_type": "stream",
     "text": [
      "0.2329120453959247 0.25904909294127765 0.5082108159229645\n",
      "1.0001719542601668\n"
     ]
    }
   ],
   "source": [
    "print(probP, probN, probI)\n",
    "soma = probP+probN+probI\n",
    "print(soma)"
   ]
  },
  {
   "cell_type": "markdown",
   "metadata": {},
   "source": [
    "### Calculando termos P(Tweet|Positivo), P(Tweet|Negativo), P(Tweet|Irrelevante) "
   ]
  },
  {
   "cell_type": "code",
   "execution_count": 17,
   "metadata": {},
   "outputs": [],
   "source": [
    "#alpha = 1.0\n",
    "#V = 435000\n",
    "alpha = 1\n",
    "V = 435000"
   ]
  },
  {
   "cell_type": "code",
   "execution_count": 18,
   "metadata": {},
   "outputs": [],
   "source": [
    "def prob_tweet_positivo(tweet_teste_1):\n",
    "    prob_tweet_positivo = 1            #evita underlow\n",
    "    for palavra in tweet_teste_1.split():\n",
    "        try:\n",
    "            prob_palavra_tweet_positivo = np.log((tabela_relativa_positivo_treino[palavra] + alpha) / \\\n",
    "            (len(string_positivo_treino) + alpha*V))\n",
    "            prob_tweet_positivo = prob_tweet_positivo + prob_palavra_tweet_positivo\n",
    "        except:\n",
    "            prob_palavra_tweet_positivo = np.log(alpha / (len(string_positivo_treino) + alpha*V))\n",
    "            prob_tweet_positivo = prob_tweet_positivo + prob_palavra_tweet_positivo\n",
    "             \n",
    "    return prob_tweet_positivo"
   ]
  },
  {
   "cell_type": "code",
   "execution_count": 19,
   "metadata": {},
   "outputs": [
    {
     "data": {
      "text/plain": [
       "-47.50447723680145"
      ]
     },
     "execution_count": 19,
     "metadata": {},
     "output_type": "execute_result"
    }
   ],
   "source": [
    "tweet = \"@michellebelo7 lula o primeiro\"\n",
    "\n",
    "prob_tweet_positivo(tweet)"
   ]
  },
  {
   "cell_type": "code",
   "execution_count": 20,
   "metadata": {},
   "outputs": [],
   "source": [
    "def prob_tweet_negativo(tweet_teste_2):\n",
    "    prob_tweet_negativo = 1             #evita underlow\n",
    "    for palavra in tweet_teste_2.split():\n",
    "        try:\n",
    "            prob_palavra_tweet_negativo = np.log((tabela_relativa_negativo_treino[palavra] + alpha) / \\\n",
    "            (len(string_negativo_treino) + alpha*V))\n",
    "            prob_tweet_negativo = prob_tweet_negativo + prob_palavra_tweet_negativo\n",
    "        except:\n",
    "            prob_palavra_tweet_negativo = np.log(alpha / (len(string_negativo_treino) + alpha*V))\n",
    "            prob_tweet_negativo = prob_tweet_negativo + prob_palavra_tweet_negativo\n",
    "        \n",
    "    return prob_tweet_negativo"
   ]
  },
  {
   "cell_type": "code",
   "execution_count": 21,
   "metadata": {},
   "outputs": [],
   "source": [
    "def prob_tweet_irrelevante(tweet_teste_3):\n",
    "    prob_tweet_irrelevante = 1             #evita underlow\n",
    "    for palavra in tweet_teste_3.split():\n",
    "        try:\n",
    "            prob_palavra_tweet_irrelevante = np.log((tabela_relativa_irrelevante_treino[palavra] + alpha) /\\\n",
    "            (len(string_irrelevante_treino) + alpha*V))\n",
    "            prob_tweet_irrelevante = prob_tweet_irrelevante + prob_palavra_tweet_irrelevante \n",
    "        except:\n",
    "            prob_palavra_tweet_irrelevante = np.log(alpha / (len(string_irrelevante_treino) + alpha*V))\n",
    "            prob_tweet_irrelevante = prob_tweet_irrelevante + prob_palavra_tweet_irrelevante \n",
    "                \n",
    "    return prob_tweet_irrelevante"
   ]
  },
  {
   "cell_type": "markdown",
   "metadata": {},
   "source": [
    "### Calculando os termos P(Positivo|Tweet), P(Negativo|Tweet), P(Irrelavante|Tweet) "
   ]
  },
  {
   "cell_type": "code",
   "execution_count": 22,
   "metadata": {},
   "outputs": [],
   "source": [
    "def maior_prob(tweet_4):\n",
    "    prob_positivo_dado_tweet = np.log(probP) + prob_tweet_positivo(tweet_4)\n",
    "    prob_negativo_dado_tweet = np.log(probN) + prob_tweet_negativo(tweet_4)\n",
    "    prob_irrelevante_dado_tweet = np.log(probI) + prob_tweet_irrelevante(tweet_4)\n",
    "    \n",
    "    #print(prob_positivo_dado_tweet)\n",
    "    #print(prob_negativo_dado_tweet)\n",
    "    #print(prob_irrelevante_dado_tweet)\n",
    "    \n",
    "    if prob_positivo_dado_tweet > prob_negativo_dado_tweet and prob_positivo_dado_tweet > \\\n",
    "    prob_irrelevante_dado_tweet:\n",
    "        return 1\n",
    "    if prob_negativo_dado_tweet > prob_positivo_dado_tweet and  prob_negativo_dado_tweet > \\\n",
    "    prob_irrelevante_dado_tweet:\n",
    "        return 2\n",
    "    else:\n",
    "        return 3"
   ]
  },
  {
   "cell_type": "markdown",
   "metadata": {},
   "source": [
    "___\n",
    "### Verificando a performance do Classificador"
   ]
  },
  {
   "cell_type": "code",
   "execution_count": 36,
   "metadata": {},
   "outputs": [
    {
     "data": {
      "text/html": [
       "<div>\n",
       "<style scoped>\n",
       "    .dataframe tbody tr th:only-of-type {\n",
       "        vertical-align: middle;\n",
       "    }\n",
       "\n",
       "    .dataframe tbody tr th {\n",
       "        vertical-align: top;\n",
       "    }\n",
       "\n",
       "    .dataframe thead th {\n",
       "        text-align: right;\n",
       "    }\n",
       "</style>\n",
       "<table border=\"1\" class=\"dataframe\">\n",
       "  <thead>\n",
       "    <tr style=\"text-align: right;\">\n",
       "      <th></th>\n",
       "      <th>Tweets</th>\n",
       "      <th>Etiquetas</th>\n",
       "      <th>Classificacao</th>\n",
       "    </tr>\n",
       "  </thead>\n",
       "  <tbody>\n",
       "    <tr>\n",
       "      <th>0</th>\n",
       "      <td>pelo habibs 🤤</td>\n",
       "      <td>3</td>\n",
       "      <td>3</td>\n",
       "    </tr>\n",
       "    <tr>\n",
       "      <th>1</th>\n",
       "      <td>tô explodindo de tanto que comi valeu habibs</td>\n",
       "      <td>1</td>\n",
       "      <td>3</td>\n",
       "    </tr>\n",
       "    <tr>\n",
       "      <th>2</th>\n",
       "      <td>@mateushabibs chapéu</td>\n",
       "      <td>3</td>\n",
       "      <td>3</td>\n",
       "    </tr>\n",
       "    <tr>\n",
       "      <th>3</th>\n",
       "      <td>@flaviaazambuja até tinha mas ele não me leva ...</td>\n",
       "      <td>3</td>\n",
       "      <td>3</td>\n",
       "    </tr>\n",
       "    <tr>\n",
       "      <th>4</th>\n",
       "      <td>@gnoga13 é que não ouviu quando ela acorda de ...</td>\n",
       "      <td>3</td>\n",
       "      <td>3</td>\n",
       "    </tr>\n",
       "    <tr>\n",
       "      <th>5</th>\n",
       "      <td>@buzzfeedbrasil a primeira vez que comi macarr...</td>\n",
       "      <td>1</td>\n",
       "      <td>3</td>\n",
       "    </tr>\n",
       "    <tr>\n",
       "      <th>6</th>\n",
       "      <td>não vou me perdoar por estar em poa o findi in...</td>\n",
       "      <td>1</td>\n",
       "      <td>3</td>\n",
       "    </tr>\n",
       "  </tbody>\n",
       "</table>\n",
       "</div>"
      ],
      "text/plain": [
       "                                              Tweets  Etiquetas  Classificacao\n",
       "0                                     pelo habibs 🤤           3              3\n",
       "1       tô explodindo de tanto que comi valeu habibs          1              3\n",
       "2                               @mateushabibs chapéu          3              3\n",
       "3  @flaviaazambuja até tinha mas ele não me leva ...          3              3\n",
       "4  @gnoga13 é que não ouviu quando ela acorda de ...          3              3\n",
       "5  @buzzfeedbrasil a primeira vez que comi macarr...          1              3\n",
       "6  não vou me perdoar por estar em poa o findi in...          1              3"
      ]
     },
     "execution_count": 36,
     "metadata": {},
     "output_type": "execute_result"
    }
   ],
   "source": [
    "df_teste_classificador = df_teste\n",
    "df_teste_classificador[\"Classificacao\"] = df_teste_classificador[\"Tweets\"].apply(maior_prob)\n",
    "df_teste_classificador.head(7)"
   ]
  },
  {
   "cell_type": "code",
   "execution_count": 46,
   "metadata": {},
   "outputs": [
    {
     "data": {
      "text/html": [
       "<div>\n",
       "<style scoped>\n",
       "    .dataframe tbody tr th:only-of-type {\n",
       "        vertical-align: middle;\n",
       "    }\n",
       "\n",
       "    .dataframe tbody tr th {\n",
       "        vertical-align: top;\n",
       "    }\n",
       "\n",
       "    .dataframe thead th {\n",
       "        text-align: right;\n",
       "    }\n",
       "</style>\n",
       "<table border=\"1\" class=\"dataframe\">\n",
       "  <thead>\n",
       "    <tr style=\"text-align: right;\">\n",
       "      <th>Classificacao</th>\n",
       "      <th>1</th>\n",
       "      <th>2</th>\n",
       "      <th>3</th>\n",
       "    </tr>\n",
       "    <tr>\n",
       "      <th>Etiquetas</th>\n",
       "      <th></th>\n",
       "      <th></th>\n",
       "      <th></th>\n",
       "    </tr>\n",
       "  </thead>\n",
       "  <tbody>\n",
       "    <tr>\n",
       "      <th>1</th>\n",
       "      <td>92.682927</td>\n",
       "      <td>0.000000</td>\n",
       "      <td>23.783784</td>\n",
       "    </tr>\n",
       "    <tr>\n",
       "      <th>2</th>\n",
       "      <td>0.000000</td>\n",
       "      <td>84.615385</td>\n",
       "      <td>17.837838</td>\n",
       "    </tr>\n",
       "    <tr>\n",
       "      <th>3</th>\n",
       "      <td>7.317073</td>\n",
       "      <td>15.384615</td>\n",
       "      <td>58.378378</td>\n",
       "    </tr>\n",
       "  </tbody>\n",
       "</table>\n",
       "</div>"
      ],
      "text/plain": [
       "Classificacao          1          2          3\n",
       "Etiquetas                                     \n",
       "1              92.682927   0.000000  23.783784\n",
       "2               0.000000  84.615385  17.837838\n",
       "3               7.317073  15.384615  58.378378"
      ]
     },
     "execution_count": 46,
     "metadata": {},
     "output_type": "execute_result"
    }
   ],
   "source": [
    "pd.crosstab(df_teste_classificador.Etiquetas,df_teste_classificador.Classificacao, normalize=\"columns\")*100"
   ]
  },
  {
   "cell_type": "markdown",
   "metadata": {},
   "source": [
    "___\n",
    "### Concluindo"
   ]
  },
  {
   "cell_type": "code",
   "execution_count": null,
   "metadata": {},
   "outputs": [],
   "source": []
  },
  {
   "cell_type": "code",
   "execution_count": null,
   "metadata": {},
   "outputs": [],
   "source": []
  },
  {
   "cell_type": "markdown",
   "metadata": {},
   "source": [
    "___\n",
    "## Aperfeiçoamento:\n",
    "\n",
    "Os trabalhos vão evoluir em conceito dependendo da quantidade de itens avançados:\n",
    "\n",
    "* Limpar: \\n, :, \", ', (, ), etc SEM remover emojis\n",
    "* Corrigir separação de espaços entre palavras e emojis ou entre emojis e emojis\n",
    "* Propor outras limpezas e transformações que não afetem a qualidade da informação ou classificação\n",
    "* Criar categorias intermediárias de relevância baseadas na probabilidade: ex.: muito relevante, relevante, neutro, irrelevante, muito irrelevante (3 categorias: C, mais categorias conta para B)\n",
    "* Explicar por que não posso usar o próprio classificador para gerar mais amostras de treinamento\n",
    "* Propor diferentes cenários para Naïve Bayes fora do contexto do projeto\n",
    "* Sugerir e explicar melhorias reais com indicações concretas de como implementar (indicar como fazer e indicar material de pesquisa)\n",
    "* Montar um dashboard que realiza análise de sentimento e visualiza estes dados"
   ]
  },
  {
   "cell_type": "markdown",
   "metadata": {},
   "source": [
    "___\n",
    "## Referências"
   ]
  },
  {
   "cell_type": "markdown",
   "metadata": {},
   "source": [
    "[Naive Bayes and Text Classification](https://arxiv.org/pdf/1410.5329.pdf)  **Mais completo**\n",
    "\n",
    "[A practical explanation of a Naive Bayes Classifier](https://monkeylearn.com/blog/practical-explanation-naive-bayes-classifier/) **Mais simples**"
   ]
  },
  {
   "cell_type": "code",
   "execution_count": null,
   "metadata": {},
   "outputs": [],
   "source": []
  }
 ],
 "metadata": {
  "kernelspec": {
   "display_name": "Python 3",
   "language": "python",
   "name": "python3"
  },
  "language_info": {
   "codemirror_mode": {
    "name": "ipython",
    "version": 3
   },
   "file_extension": ".py",
   "mimetype": "text/x-python",
   "name": "python",
   "nbconvert_exporter": "python",
   "pygments_lexer": "ipython3",
   "version": "3.7.6"
  }
 },
 "nbformat": 4,
 "nbformat_minor": 4
}
